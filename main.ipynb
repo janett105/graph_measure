{
 "cells": [
  {
   "cell_type": "markdown",
   "id": "f48088e5-32e7-4ce8-b7b8-b588d013776d",
   "metadata": {},
   "source": [
    "pip install duecredit"
   ]
  },
  {
   "cell_type": "markdown",
   "id": "79bf959b-cb81-425e-8a9c-58cf2b5d0061",
   "metadata": {},
   "source": [
    "\n",
    "\n",
    "\n",
    "https://sites.google.com/site/bctnet/list-of-measures?authuser=0"
   ]
  },
  {
   "cell_type": "code",
   "execution_count": 1,
   "id": "d660a0ff-e082-4d69-adb8-8d94cd0dab33",
   "metadata": {},
   "outputs": [],
   "source": [
    "import numpy as np\n",
    "import seaborn as sns\n",
    "import matplotlib.pyplot as plt\n",
    "import pandas as pd\n",
    "import glob\n",
    "\n",
    "import brainconn"
   ]
  },
  {
   "cell_type": "markdown",
   "id": "8984bd67-8f5f-46e1-9a32-aaa33c28f05c",
   "metadata": {},
   "source": [
    "Networks name : Functional Connectivity (100parcels)\n",
    "\n",
    "Dataset(Cohert) : UCLA_CNP, COBRE, Decnef\n",
    "\n",
    "Networks type : undirected, weighted, signed"
   ]
  },
  {
   "cell_type": "code",
   "execution_count": 2,
   "id": "b57bd6cc-dbb8-4b70-b7a1-8cc49a74c2d7",
   "metadata": {},
   "outputs": [
    {
     "data": {
      "text/plain": [
       "array([[ 0.        , -0.02039017, -0.27622252, ...,  0.42550347,\n",
       "         0.71972038,  0.37055566],\n",
       "       [-0.02039017,  0.        ,  0.36731194, ..., -0.22734383,\n",
       "        -0.03466212, -0.35631239],\n",
       "       [-0.27622252,  0.36731194,  0.        , ..., -0.30063429,\n",
       "        -0.26377227, -0.39054284],\n",
       "       ...,\n",
       "       [ 0.42550347, -0.22734383, -0.30063429, ...,  0.        ,\n",
       "         0.47453728,  0.58119803],\n",
       "       [ 0.71972038, -0.03466212, -0.26377227, ...,  0.47453728,\n",
       "         0.        ,  0.52537273],\n",
       "       [ 0.37055566, -0.35631239, -0.39054284, ...,  0.58119803,\n",
       "         0.52537273,  0.        ]])"
      ]
     },
     "execution_count": 2,
     "metadata": {},
     "output_type": "execute_result"
    }
   ],
   "source": [
    "corr = np.load(f'data/UCLA_CNP/FC100_sub-10159.npy')\n",
    "corr"
   ]
  },
  {
   "cell_type": "code",
   "execution_count": null,
   "id": "34472170-7bcf-44ef-8b5b-c7d36f50087c",
   "metadata": {},
   "outputs": [],
   "source": [
    "# # brainconn에는 있지만 bctpy에는 없는 것\n",
    "# brainconn.modularity.ci2ls\n",
    "# brainconn.modularity.ls2ci\n",
    "# brainconn.modularity.modularity_dir\n",
    "# brainconn.modularity.modularity_finetune_dir\n",
    "# brainconn.modularity.modularity_finetune_und\n",
    "# brainconn.modularity.modularity_finetune_und_sign\n",
    "# brainconn.modularity.modularity_louvain_dir\n",
    "# brainconn.modularity.modularity_louvain_und\n",
    "# brainconn.modularity.modularity_louvain_und_sign\n",
    "# brainconn.modularity.modularity_probtune_und_sign\n",
    "# brainconn.modularity.modularity_und_sign\n",
    "# brainconn.modularity.partition_distance\n",
    "# brainconn.nbs.Doi\n",
    "# brainconn.nbs.nbs_bct\n",
    "# brainconn.reference.latmio_dir\n",
    "# brainconn.reference.latmio_dir_connected\n",
    "# brainconn.reference.latmio_und\n",
    "# brainconn.reference.latmio_und_connected\n",
    "# brainconn.reference.makeevenCIJ\n",
    "# brainconn.reference.makefractalCIJ\n",
    "# brainconn.reference.makerandCIJ_und\n",
    "# brainconn.reference.makerandCIJdegreesfixed\n",
    "# brainconn.reference.makeringlatticeCIJ\n",
    "# brainconn.reference.maketoeplitzCIJ\n",
    "# brainconn.reference.null_model_dir_sign\n",
    "# brainconn.reference.null_model_und_sign\n",
    "# brainconn.reference.randmio_dir\n",
    "# brainconn.reference.randmio_dir_connected\n",
    "# brainconn.reference.randmio_dir_signed\n",
    "# brainconn.reference.randmio_und\n",
    "# brainconn.reference.randmio_und_connected\n",
    "# brainconn.reference.randmio_und_signed\n",
    "# brainconn.reference.randomize_graph_partial_und\n",
    "# brainconn.reference.randomizer_bin_und\n",
    "# brainconn.similarity.corr_flat_dir\n",
    "# brainconn.similarity.corr_flat_und\n",
    "# brainconn.similarity.dice_pairwise_und\n",
    "\n",
    "# # bctpy에는 있지만 brainconn에는 없는 것\n",
    "# Diffusion efficiency\n",
    "# Navigation\n",
    "# quasi_idempotence"
   ]
  },
  {
   "cell_type": "code",
   "execution_count": 35,
   "id": "1b89c304-ee82-4c81-9847-15bef8436497",
   "metadata": {},
   "outputs": [
    {
     "ename": "TypeError",
     "evalue": "retrieve_shortest_path() missing 3 required positional arguments: 't', 'hops', and 'Pmat'",
     "output_type": "error",
     "traceback": [
      "\u001b[1;31m---------------------------------------------------------------------------\u001b[0m",
      "\u001b[1;31mTypeError\u001b[0m                                 Traceback (most recent call last)",
      "Cell \u001b[1;32mIn[35], line 6\u001b[0m\n\u001b[0;32m      4\u001b[0m global_efficiency_ \u001b[38;5;241m=\u001b[39m brainconn\u001b[38;5;241m.\u001b[39mdistance\u001b[38;5;241m.\u001b[39mefficiency_wei(corr, local\u001b[38;5;241m=\u001b[39m\u001b[38;5;28;01mFalse\u001b[39;00m)\n\u001b[0;32m      5\u001b[0m characteristic_path_length, global_efficiency, eccentricity, radius, diameter \u001b[38;5;241m=\u001b[39m brainconn\u001b[38;5;241m.\u001b[39mdistance\u001b[38;5;241m.\u001b[39mcharpath(corr, include_diagonal\u001b[38;5;241m=\u001b[39m\u001b[38;5;28;01mFalse\u001b[39;00m)\n\u001b[1;32m----> 6\u001b[0m shortest_path \u001b[38;5;241m=\u001b[39m brainconn\u001b[38;5;241m.\u001b[39mdistance\u001b[38;5;241m.\u001b[39mretrieve_shortest_path(corr) \u001b[38;5;66;03m# t, hops, pmat 필요\u001b[39;00m\n\u001b[0;32m      7\u001b[0m density \u001b[38;5;241m=\u001b[39m brainconn\u001b[38;5;241m.\u001b[39mphysical_connectivity\u001b[38;5;241m.\u001b[39mdensity_und(corr)  \u001b[38;5;66;03m# len 3 tuple\u001b[39;00m\n\u001b[0;32m     10\u001b[0m within_module_degree_zscore_link \u001b[38;5;241m=\u001b[39m brainconn\u001b[38;5;241m.\u001b[39mcentrality\u001b[38;5;241m.\u001b[39mmodule_degree_zscore(corr, community_structure_modularity_link) \n",
      "\u001b[1;31mTypeError\u001b[0m: retrieve_shortest_path() missing 3 required positional arguments: 't', 'hops', and 'Pmat'"
     ]
    }
   ],
   "source": [
    "# small-worldness\n",
    "# resilience\n",
    "\n",
    "global_efficiency_ = brainconn.distance.efficiency_wei(corr, local=False)\n",
    "characteristic_path_length, global_efficiency, eccentricity, radius, diameter = brainconn.distance.charpath(corr, include_diagonal=True)\n",
    "shortest_path = brainconn.distance.retrieve_shortest_path(corr) # t, hops, pmat 필요\n",
    "density = brainconn.physical_connectivity.density_und(corr)  # len 3 tuple\n",
    "\n",
    "\n",
    "within_module_degree_zscore_link = brainconn.centrality.module_degree_zscore(corr, community_structure_modularity_link) \n",
    "within_module_degree_zscore_spectral = brainconn.centrality.module_degree_zscore(corr, community_structure_modularity_spectral)\n",
    "participation_coef_link = brainconn.centrality.participation_coef(corr, community_structure_modularity_link)\n",
    "participation_coef_spectral = brainconn.centrality.participation_coef(corr, community_structure_modularity_spectral)\n",
    "participation_coef_sign = brainconn.centrality.participation_coef_sign(corr, community_structure_modularity_sign_louvian)\n",
    "participation_coef_sign_gateway = brainconn.centrality.gateway_coef_sign(corr, community_structure_modularity_sign_louvian)\n",
    "participation_coef_sign_diversity = brainconn.centrality.diversity_coef_sign(corr, community_structure_modularity_sign_louvian)\n",
    "consensus_partitioning = brainconn.clustering.consensus_und(corr) # input : partitions of networks\n",
    "modularity_degeneracy = brainconn.clustering.agreement(corr) # input : partitions of networks\n",
    "modularity_degeneracy_wei = brainconn.clustering.agreement_weighted(corr) # input : partitions of networks\n",
    "rich_club_coefficient = brainconn.core.rich_club_wu(corr) #(99,)\n",
    "s_core = brainconn.core.score_wu(corr) # s:level of s-core\n",
    "distance = brainconn.distance.distance_wei(corr) # input : Directed/undirected connection-length matrix, 음수 가중치 없어야 함\n",
    "a,b,c = brainconn.distance.distance_wei_floyd(corr) #음수 가중치 사이클이 없어야 함, (100,100)\n",
    "mean_first_passage_time = brainconn.distance.mean_first_passage_time(corr) # (100,100)\n",
    "edg_betw_wei = brainconn.centrality.edge_betweenness_wei(corr)[0] #(100, 100)\n",
    "community_structure_modularity_sign_louvian = brainconn.modularity.community_louvain(corr) # ValueError: Adjacency matrix cannot contain negative weights\n",
    "community_structure_modularity_link = brainconn.modularity.link_communities(corr) # arrays to stack must be passed as a \"sequence\" type such as list or tuple.\n",
    "community_structure_modularity_spectral = brainconn.modularity.modularity_und(corr) # setting an array element with a sequence. The requested array has an inhomogeneous shape after 1 dimensions. The detected shape was (2,) + inhomogeneous part.\n",
    "consensus_partitioning = brainconn.clustering.consensus_und(corr) # input : partitions of networks\n",
    "modularity_degeneracy = brainconn.clustering.agreement(corr) # input : partitions of networks\n",
    "modularity_degeneracy_wei = brainconn.clustering.agreement_weighted(corr) # input : partitions of networks"
   ]
  },
  {
   "cell_type": "code",
   "execution_count": 36,
   "id": "27fc3c49-f732-43f2-a746-d15d78b664db",
   "metadata": {},
   "outputs": [
    {
     "data": {
      "text/plain": [
       "-0.00021591075753172126"
      ]
     },
     "execution_count": 36,
     "metadata": {},
     "output_type": "execute_result"
    }
   ],
   "source": [
    "global_efficiency_"
   ]
  },
  {
   "cell_type": "code",
   "execution_count": 37,
   "id": "9048e326-367c-4276-b500-df88526c7546",
   "metadata": {},
   "outputs": [
    {
     "data": {
      "text/plain": [
       "2.585062531818655"
      ]
     },
     "execution_count": 37,
     "metadata": {},
     "output_type": "execute_result"
    }
   ],
   "source": [
    "global_efficiency"
   ]
  },
  {
   "cell_type": "code",
   "execution_count": 3,
   "id": "11d68338-72a1-4864-ac7b-9e1b05c4e865",
   "metadata": {},
   "outputs": [],
   "source": [
    "UCLA_CNP_df=pd.read_csv('data/UCLA_CNP/UCLA_CNP_100FC_phenotype_cognition.csv')[['participant_id', 'diagnosis', 'Cohert', 'PC1']]"
   ]
  },
  {
   "cell_type": "code",
   "execution_count": 4,
   "id": "a36531d6-9223-411a-b3de-3c015fbf79d6",
   "metadata": {},
   "outputs": [],
   "source": [
    "local_measure_dict={\n",
    "    'betweenness': pd.DataFrame(),\n",
    "    'eigenvector_centrality': pd.DataFrame(),\n",
    "    'node_degree': pd.DataFrame(),\n",
    "    'strength': pd.DataFrame(),\n",
    "    'clustering_coefficient': pd.DataFrame(),\n",
    "}\n",
    "\n",
    "global_measure_dict={\n",
    "    \n",
    "}"
   ]
  },
  {
   "cell_type": "code",
   "execution_count": 5,
   "id": "29458e34-5b33-45b8-a93a-96932218a5c8",
   "metadata": {},
   "outputs": [
    {
     "data": {
      "text/html": [
       "<div>\n",
       "<style scoped>\n",
       "    .dataframe tbody tr th:only-of-type {\n",
       "        vertical-align: middle;\n",
       "    }\n",
       "\n",
       "    .dataframe tbody tr th {\n",
       "        vertical-align: top;\n",
       "    }\n",
       "\n",
       "    .dataframe thead th {\n",
       "        text-align: right;\n",
       "    }\n",
       "</style>\n",
       "<table border=\"1\" class=\"dataframe\">\n",
       "  <thead>\n",
       "    <tr style=\"text-align: right;\">\n",
       "      <th></th>\n",
       "    </tr>\n",
       "  </thead>\n",
       "  <tbody>\n",
       "  </tbody>\n",
       "</table>\n",
       "</div>"
      ],
      "text/plain": [
       "Empty DataFrame\n",
       "Columns: []\n",
       "Index: []"
      ]
     },
     "execution_count": 5,
     "metadata": {},
     "output_type": "execute_result"
    }
   ],
   "source": [
    "local_measure_dict['betweenness']"
   ]
  },
  {
   "cell_type": "code",
   "execution_count": 7,
   "id": "890745a4-26a4-4a19-aedf-ebb0904ab5ae",
   "metadata": {},
   "outputs": [],
   "source": [
    "class Network(object):\n",
    "    def __init__(self, corr):\n",
    "        self.corr = corr\n",
    "\n",
    "        self.betweenness=None\n",
    "        self.eigenvector_centrality=None\n",
    "        self.node_degree=None\n",
    "        self.strength=None\n",
    "        self.clustering_coefficient=None\n",
    "\n",
    "    def compute_local_graph_measures(self): #(100,)\n",
    "        self.betweenness = brainconn.centrality.betweenness_wei(corr)\n",
    "        # self.eigenvector_centrality = brainconn.centrality.eigenvector_centrality_und(corr)\n",
    "        # self.node_degree = brainconn.degree.degrees_und(corr)\n",
    "        # self.strength = brainconn.degree.strengths_und(corr)\n",
    "        # self.clustering_coefficient = brainconn.clustering.clustering_coef_wu(corr)\n",
    "        # self.eigenvector_centrality_pagerank = brainconn.centrality.pagerank_centrality(corr,d=0.85) # d:damping factor\n",
    "        # local_efficiency = brainconn.distance.efficiency_wei(corr, local=True)\n",
    "        # clustering_coefficient_positive, clustering_coefficient_negative = brainconn.clustering.clustering_coef_wu_sign(corr)\n",
    "        # local_assortativity_positive, local_assortativity_negative = brainconn.core.local_assortativity_wu_sign(corr)\n",
    "        strengths_nodal_positive, strengths_nodal_negative = brainconn.degree.strengths_und_sign(corr)\n",
    "    \n",
    "    def compute_global_graph_measures(self): #(1,)\n",
    "        global_efficiency = brainconn.distance.efficiency_wei(corr, local=False)\n",
    "        # transitivity = brainconn.clustering.transitivity_wu(corr)\n",
    "        # assortativity = brainconn.core.assortativity_wei(corr)\n",
    "        strengths_total_positive, strengths_total_positive = brainconn.degree.strengths_und_sign(corr)\n",
    "        \n",
    "    def apped_measures_df(self, local_measure_dict, global_measure_dict):\n",
    "        local_measure_dict['betweenness'] = pd.concat([local_measure_dict['betweenness'], pd.DataFrame(self.betweenness.reshape(-1,100))], ignore_index=True)\n",
    "        # local_measure_dict['eigenvector_centrality'] = pd.concat([local_measure_dict['eigenvector_centrality'], pd.DataFrame(self.eigenvector_centrality.reshape(-1,100))], ignore_index=True)\n",
    "        # local_measure_dict['node_degree'] = pd.concat([local_measure_dict['node_degree'], pd.DataFrame(self.node_degree.reshape(-1,100))], ignore_index=True)\n",
    "        # local_measure_dict['strength'] = pd.concat([local_measure_dict['strength'], pd.DataFrame(self.strength.reshape(-1,100))], ignore_index=True)\n",
    "        # local_measure_dict['clustering_coefficient'] = pd.concat([local_measure_dict['clustering_coefficient'], pd.DataFrame(self.clustering_coefficient.reshape(-1,100))], ignore_index=True)"
   ]
  },
  {
   "cell_type": "code",
   "execution_count": 8,
   "id": "56219c35-0029-4b66-9945-a6e6712f39eb",
   "metadata": {},
   "outputs": [],
   "source": [
    "for subj in UCLA_CNP_df['participant_id']:\n",
    "    corr = np.load(f'data/UCLA_CNP/FC100_{subj}.npy') # correlation matrix should be zero diagonal\n",
    "    network = Network(corr)\n",
    "    network.compute_local_graph_measures()\n",
    "    network.apped_measures_df(local_measure_dict, global_measure_dict)"
   ]
  },
  {
   "cell_type": "code",
   "execution_count": 9,
   "id": "84ad5579-8c9b-404e-bd38-a3c55f12e002",
   "metadata": {},
   "outputs": [],
   "source": [
    "for key in local_measure_dict.keys():\n",
    "    column_names = [f\"{key}_{i+1}\" for i in range(100)]\n",
    "    local_measure_dict[key] = pd.DataFrame(columns=column_names)"
   ]
  },
  {
   "cell_type": "code",
   "execution_count": 10,
   "id": "5908ab82-817d-441e-8edb-633f377d212e",
   "metadata": {},
   "outputs": [
    {
     "data": {
      "text/html": [
       "<div>\n",
       "<style scoped>\n",
       "    .dataframe tbody tr th:only-of-type {\n",
       "        vertical-align: middle;\n",
       "    }\n",
       "\n",
       "    .dataframe tbody tr th {\n",
       "        vertical-align: top;\n",
       "    }\n",
       "\n",
       "    .dataframe thead th {\n",
       "        text-align: right;\n",
       "    }\n",
       "</style>\n",
       "<table border=\"1\" class=\"dataframe\">\n",
       "  <thead>\n",
       "    <tr style=\"text-align: right;\">\n",
       "      <th></th>\n",
       "      <th>betweenness_1</th>\n",
       "      <th>betweenness_2</th>\n",
       "      <th>betweenness_3</th>\n",
       "      <th>betweenness_4</th>\n",
       "      <th>betweenness_5</th>\n",
       "      <th>betweenness_6</th>\n",
       "      <th>betweenness_7</th>\n",
       "      <th>betweenness_8</th>\n",
       "      <th>betweenness_9</th>\n",
       "      <th>betweenness_10</th>\n",
       "      <th>...</th>\n",
       "      <th>betweenness_91</th>\n",
       "      <th>betweenness_92</th>\n",
       "      <th>betweenness_93</th>\n",
       "      <th>betweenness_94</th>\n",
       "      <th>betweenness_95</th>\n",
       "      <th>betweenness_96</th>\n",
       "      <th>betweenness_97</th>\n",
       "      <th>betweenness_98</th>\n",
       "      <th>betweenness_99</th>\n",
       "      <th>betweenness_100</th>\n",
       "    </tr>\n",
       "  </thead>\n",
       "  <tbody>\n",
       "  </tbody>\n",
       "</table>\n",
       "<p>0 rows × 100 columns</p>\n",
       "</div>"
      ],
      "text/plain": [
       "Empty DataFrame\n",
       "Columns: [betweenness_1, betweenness_2, betweenness_3, betweenness_4, betweenness_5, betweenness_6, betweenness_7, betweenness_8, betweenness_9, betweenness_10, betweenness_11, betweenness_12, betweenness_13, betweenness_14, betweenness_15, betweenness_16, betweenness_17, betweenness_18, betweenness_19, betweenness_20, betweenness_21, betweenness_22, betweenness_23, betweenness_24, betweenness_25, betweenness_26, betweenness_27, betweenness_28, betweenness_29, betweenness_30, betweenness_31, betweenness_32, betweenness_33, betweenness_34, betweenness_35, betweenness_36, betweenness_37, betweenness_38, betweenness_39, betweenness_40, betweenness_41, betweenness_42, betweenness_43, betweenness_44, betweenness_45, betweenness_46, betweenness_47, betweenness_48, betweenness_49, betweenness_50, betweenness_51, betweenness_52, betweenness_53, betweenness_54, betweenness_55, betweenness_56, betweenness_57, betweenness_58, betweenness_59, betweenness_60, betweenness_61, betweenness_62, betweenness_63, betweenness_64, betweenness_65, betweenness_66, betweenness_67, betweenness_68, betweenness_69, betweenness_70, betweenness_71, betweenness_72, betweenness_73, betweenness_74, betweenness_75, betweenness_76, betweenness_77, betweenness_78, betweenness_79, betweenness_80, betweenness_81, betweenness_82, betweenness_83, betweenness_84, betweenness_85, betweenness_86, betweenness_87, betweenness_88, betweenness_89, betweenness_90, betweenness_91, betweenness_92, betweenness_93, betweenness_94, betweenness_95, betweenness_96, betweenness_97, betweenness_98, betweenness_99, betweenness_100]\n",
       "Index: []\n",
       "\n",
       "[0 rows x 100 columns]"
      ]
     },
     "execution_count": 10,
     "metadata": {},
     "output_type": "execute_result"
    }
   ],
   "source": [
    "local_measure_dict['betweenness']"
   ]
  },
  {
   "cell_type": "code",
   "execution_count": null,
   "id": "349fcdc9-c8ee-4278-8a3c-a5fb723b7b80",
   "metadata": {},
   "outputs": [],
   "source": [
    "UCLA_CNP_df"
   ]
  },
  {
   "cell_type": "code",
   "execution_count": null,
   "id": "e05cd3b9-be52-420d-a837-29709f9792db",
   "metadata": {},
   "outputs": [],
   "source": [
    "for measure in local_measure_dict:\n",
    "    UCLA_CNP_df = pd.concat([UCLA_CNP_df, local_measure_dict[measure]], ignore_index=True)"
   ]
  },
  {
   "cell_type": "code",
   "execution_count": null,
   "id": "0db4ae2e-15cc-40ee-b9f7-7ad4a2a5af0f",
   "metadata": {},
   "outputs": [],
   "source": [
    "UCLA_CNP_df"
   ]
  },
  {
   "cell_type": "code",
   "execution_count": null,
   "id": "1ab9fd85-041d-4993-87fe-245209f734fa",
   "metadata": {},
   "outputs": [],
   "source": [
    "for measure in UCLA_CNP_df.columns.to_list[4:]\n",
    "    plt.figure(figsize=(10, 6))\n",
    "    scatter = plt.scatter(UCLA_CNP_df['measure'], UCLA_CNP_df['PC1'], c=UCLA_CNP_df['diagnosis'], cmap='viridis')\n",
    "    \n",
    "    plt.colorbar(scatter)\n",
    "    \n",
    "    plt.xlabel('x')\n",
    "    plt.ylabel('y')\n",
    "    plt.title('Scatter Plot with Color Representation of z')\n",
    "    iloc\n",
    "    plt.show()\n",
    "    plt.savefig('/mnt/data/scatter_plot.png')\n",
    "\n",
    "    plt.close()"
   ]
  },
  {
   "cell_type": "code",
   "execution_count": null,
   "id": "0000ef53-edf7-4063-bac0-f4b71e854e52",
   "metadata": {},
   "outputs": [],
   "source": []
  },
  {
   "cell_type": "code",
   "execution_count": null,
   "id": "b2ed8c92-51d4-49bf-8a7e-395f5700baa2",
   "metadata": {},
   "outputs": [],
   "source": [
    "ROI0=local_measure_dict['betweenness'].iloc[:, 0] # subject들의 한 ROI에서의 measure\n",
    "ROI0"
   ]
  },
  {
   "cell_type": "code",
   "execution_count": null,
   "id": "2ffc29f4-1f79-4775-9423-d99e595adcc9",
   "metadata": {},
   "outputs": [],
   "source": [
    "ROI0.hist()"
   ]
  },
  {
   "cell_type": "code",
   "execution_count": null,
   "id": "89ef3e03-4953-408c-9403-a87d625bef63",
   "metadata": {},
   "outputs": [],
   "source": [
    "UCLACNP_list=[]\n",
    "COBRE_list=[]\n",
    "Decnef_list=[]\n",
    "Total_list=[]\n",
    "\n",
    "file_list = glob.glob('data/UCLA_CNP/*.npy')\n",
    "for subj in file_list:\n",
    "    temp = subj.replace('data/','')\n",
    "    temp = temp.replace('.npy', '')\n",
    "    UCLACNP_list.append(temp)\n",
    "    \n",
    "file_list = glob.glob('data/COBRE/*.npy')\n",
    "for subj in file_list:\n",
    "    temp = subj.replace('data/','')\n",
    "    temp = temp.replace('.npy', '')\n",
    "    COBRE_list.append(temp)\n",
    "    \n",
    "file_list = glob.glob('data/Decnef/*.npy')\n",
    "for subj in file_list:\n",
    "    temp = subj.replace('data/','')\n",
    "    temp = temp.replace('.npy', '')\n",
    "    Decnef_list.append(temp)"
   ]
  },
  {
   "cell_type": "code",
   "execution_count": null,
   "id": "de3348d2-5d25-4ae2-a7ab-99ac3eddc5d1",
   "metadata": {},
   "outputs": [],
   "source": [
    "def local_ROI_distribution(local_measure_dict, measure): \n",
    "    for ROI_idx in range(3):\n",
    "        ROI = local_measure_dict[measure].iloc[:, ROI_idx]\n",
    "        ROI.hist()"
   ]
  },
  {
   "cell_type": "code",
   "execution_count": null,
   "id": "225e3080-2cdf-4203-ae23-bd275950365e",
   "metadata": {},
   "outputs": [],
   "source": [
    "local_ROI_distribution(local_measure_dict, measure='betweenness')"
   ]
  }
 ],
 "metadata": {
  "kernelspec": {
   "display_name": "Python 3 (ipykernel)",
   "language": "python",
   "name": "python3"
  },
  "language_info": {
   "codemirror_mode": {
    "name": "ipython",
    "version": 3
   },
   "file_extension": ".py",
   "mimetype": "text/x-python",
   "name": "python",
   "nbconvert_exporter": "python",
   "pygments_lexer": "ipython3",
   "version": "3.12.2"
  }
 },
 "nbformat": 4,
 "nbformat_minor": 5
}
