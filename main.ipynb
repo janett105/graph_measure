{
 "cells": [
  {
   "cell_type": "code",
   "execution_count": 1,
   "id": "1b89c304-ee82-4c81-9847-15bef8436497",
   "metadata": {},
   "outputs": [],
   "source": [
    "# 시도해봤으나 애매한 것들\n",
    "# distance, shorest_path_edges_n = brainconn.distance.distance_wei(corr_length) # connection-length matrix, 음수 가중치 없어야 함, (100,100)\n",
    "# a,b,c = brainconn.distance.distance_wei_floyd(corr) # connection-length matrix, 음수 가중치 사이클이 없어야 함, (100,100)\n",
    "# characteristic_path_length, global_efficiency, eccentricity, radius, diameter = brainconn.distance.charpath(distance, include_diagonal=True) # distance matrix\n",
    "# # small-worldness"
   ]
  },
  {
   "cell_type": "markdown",
   "id": "f48088e5-32e7-4ce8-b7b8-b588d013776d",
   "metadata": {},
   "source": [
    "pip install duecredit"
   ]
  },
  {
   "cell_type": "markdown",
   "id": "79bf959b-cb81-425e-8a9c-58cf2b5d0061",
   "metadata": {},
   "source": [
    "https://sites.google.com/site/bctnet/list-of-measures?authuser=0"
   ]
  },
  {
   "cell_type": "code",
   "execution_count": 2,
   "id": "d660a0ff-e082-4d69-adb8-8d94cd0dab33",
   "metadata": {},
   "outputs": [],
   "source": [
    "import numpy as np\n",
    "import seaborn as sns\n",
    "import matplotlib.pyplot as plt\n",
    "import pandas as pd\n",
    "import glob\n",
    "\n",
    "import brainconn"
   ]
  },
  {
   "cell_type": "markdown",
   "id": "8984bd67-8f5f-46e1-9a32-aaa33c28f05c",
   "metadata": {},
   "source": [
    "Networks name : Functional Connectivity (100parcels)\n",
    "\n",
    "Dataset(Cohert) : UCLA_CNP, COBRE, Decnef\n",
    "\n",
    "Networks type : undirected, weighted, signed"
   ]
  },
  {
   "cell_type": "code",
   "execution_count": 3,
   "id": "b57bd6cc-dbb8-4b70-b7a1-8cc49a74c2d7",
   "metadata": {},
   "outputs": [],
   "source": [
    "corr = np.load('data/UCLA_CNP/FC100_sub-10159.npy')\n",
    "adj = np.load('data/UCLA_CNP/adjacency/FC100_sub-10159_adj.npy') # node pairwise distance, 0~1사이 값\n",
    "#corr_length = 1/adj"
   ]
  },
  {
   "cell_type": "code",
   "execution_count": 4,
   "id": "11d68338-72a1-4864-ac7b-9e1b05c4e865",
   "metadata": {},
   "outputs": [],
   "source": [
    "UCLA_CNP_df=pd.read_csv('data/UCLA_CNP/UCLA_CNP_100FC_phenotype_cognition.csv')[['participant_id', 'diagnosis', 'Cohert', 'PC1']]"
   ]
  },
  {
   "cell_type": "code",
   "execution_count": 5,
   "id": "a36531d6-9223-411a-b3de-3c015fbf79d6",
   "metadata": {},
   "outputs": [],
   "source": [
    "local_measure_dict={\n",
    "    'betweenness': pd.DataFrame(),\n",
    "    'eigenvector_centrality': pd.DataFrame(),\n",
    "    'node_degree': pd.DataFrame(),\n",
    "    'strength': pd.DataFrame(),\n",
    "    'strengths_nodal_positive': pd.DataFrame(),\n",
    "    'strengths_nodal_negative': pd.DataFrame(),\n",
    "    'clustering_coefficient_positive': pd.DataFrame(),\n",
    "    'clustering_coefficient_negative': pd.DataFrame(),\n",
    "    'local_assortativity_positive': pd.DataFrame(),\n",
    "    'local_assortativity_negative': pd.DataFrame(),\n",
    "    'clustering_coefficient': pd.DataFrame(),\n",
    "    'local_efficiency': pd.DataFrame(),\n",
    "}\n",
    "\n",
    "global_measure_dict={\n",
    "    'transitivity': pd.DataFrame(),\n",
    "    'assortativity': pd.DataFrame(),\n",
    "    'strengths_total_positive': pd.DataFrame(),\n",
    "    'strengths_total_negative': pd.DataFrame(),\n",
    "    'global_efficiency': pd.DataFrame(),\n",
    "}"
   ]
  },
  {
   "cell_type": "code",
   "execution_count": 6,
   "id": "a5a1b885-cdc2-4594-995d-82f4f5ac8c38",
   "metadata": {},
   "outputs": [
    {
     "data": {
      "text/html": [
       "<div>\n",
       "<style scoped>\n",
       "    .dataframe tbody tr th:only-of-type {\n",
       "        vertical-align: middle;\n",
       "    }\n",
       "\n",
       "    .dataframe tbody tr th {\n",
       "        vertical-align: top;\n",
       "    }\n",
       "\n",
       "    .dataframe thead th {\n",
       "        text-align: right;\n",
       "    }\n",
       "</style>\n",
       "<table border=\"1\" class=\"dataframe\">\n",
       "  <thead>\n",
       "    <tr style=\"text-align: right;\">\n",
       "      <th></th>\n",
       "    </tr>\n",
       "  </thead>\n",
       "  <tbody>\n",
       "  </tbody>\n",
       "</table>\n",
       "</div>"
      ],
      "text/plain": [
       "Empty DataFrame\n",
       "Columns: []\n",
       "Index: []"
      ]
     },
     "execution_count": 6,
     "metadata": {},
     "output_type": "execute_result"
    }
   ],
   "source": [
    "local_measure_dict['betweenness']"
   ]
  },
  {
   "cell_type": "code",
   "execution_count": 7,
   "id": "890745a4-26a4-4a19-aedf-ebb0904ab5ae",
   "metadata": {},
   "outputs": [],
   "source": [
    "class Network(object):\n",
    "    def __init__(self, corr):\n",
    "        self.corr = corr\n",
    "\n",
    "        self.betweenness=None\n",
    "        self.node_degree=None\n",
    "        self.strength=None\n",
    "        self.strengths_nodal_positive=None\n",
    "        self.strengths_nodal_negative=None\n",
    "        self.clustering_coefficient=None\n",
    "        self.clustering_coefficient_positive=None\n",
    "        self.clustering_coefficient_negative=None\n",
    "        self.local_assortativity_positive=None\n",
    "        self.local_assortativity_negative=None\n",
    "        self.local_efficiency=None\n",
    "        \n",
    "        self.transitivity=None\n",
    "        self.assortativity=None\n",
    "        self.strengths_total_positive=None\n",
    "        self.strengths_total_negative=None\n",
    "        self.global_efficiency=None\n",
    "\n",
    "    def compute_local_graph_measures(self): #(100,)\n",
    "        self.betweenness = brainconn.centrality.betweenness_wei(corr)\n",
    "        #self.node_degree = brainconn.degree.degrees_und(corr)\n",
    "        #self.strength = brainconn.degree.strengths_und(corr)\n",
    "        #self.strengths_nodal_positive, self.strengths_nodal_negative,_,_ = brainconn.degree.strengths_und_sign(corr)\n",
    "        #self.clustering_coefficient = brainconn.clustering.clustering_coef_wu(corr)\n",
    "        #self.local_assortativity_positive, self.local_assortativity_negative = brainconn.core.local_assortativity_wu_sign(corr)\n",
    "        #self.clustering_coefficient_positive, self.clustering_coefficient_negative = brainconn.clustering.clustering_coef_wu_sign(corr)\n",
    "        #self.local_efficiency = brainconn.distance.efficiency_wei(adj, local=True)\n",
    "        \n",
    "    def compute_global_graph_measures(self): #(1,)\n",
    "        self.transitivity = brainconn.clustering.transitivity_wu(corr)\n",
    "        self.assortativity = brainconn.core.assortativity_wei(corr)\n",
    "        _,_,self.strengths_total_positive, self.strengths_total_positive = brainconn.degree.strengths_und_sign(corr)\n",
    "        self.density, vertex_n, edge_n = brainconn.physical_connectivity.density_und(corr)\n",
    "        self.global_efficiency = brainconn.distance.efficiency_wei(adj, local=False)\n",
    "        \n",
    "    def apped_measures_df(self, local_measure_dict, global_measure_dict):\n",
    "        local_measure_dict['betweenness'] = pd.concat([local_measure_dict['betweenness'], pd.DataFrame(self.betweenness.reshape(-1,100))], ignore_index=True)\n",
    "        #local_measure_dict['node_degree'] = pd.concat([local_measure_dict['node_degree'], pd.DataFrame(self.node_degree.reshape(-1,100))], ignore_index=True)\n",
    "        #local_measure_dict['strength'] = pd.concat([local_measure_dict['strength'], pd.DataFrame(self.strength.reshape(-1,100))], ignore_index=True)\n",
    "        #local_measure_dict['strengths_nodal_positive'] = pd.concat([local_measure_dict['strengths_nodal_positive'], pd.DataFrame(self.strengths_nodal_positive.reshape(-1,100))], ignore_index=True)\n",
    "        #local_measure_dict['strengths_nodal_negative'] = pd.concat([local_measure_dict['strengths_nodal_negative'], pd.DataFrame(self.strengths_nodal_negative.reshape(-1,100))], ignore_index=True)\n",
    "        #local_measure_dict['clustering_coefficient'] = pd.concat([local_measure_dict['clustering_coefficient'], pd.DataFrame(self.clustering_coefficient.reshape(-1,100))], ignore_index=True)\n",
    "        #local_measure_dict['local_assortativity_positive'] = pd.concat([local_measure_dict['local_assortativity_positive'], pd.DataFrame(self.local_assortativity_positive.reshape(-1,100))], ignore_index=True)\n",
    "        #local_measure_dict['local_assortativity_negative'] = pd.concat([local_measure_dict['local_assortativity_negative'], pd.DataFrame(self.local_assortativity_negative.reshape(-1,100))], ignore_index=True)\n",
    "        #local_measure_dict['clustering_coefficient_positive'] = pd.concat([local_measure_dict['clustering_coefficient_positive'], pd.DataFrame(self.clustering_coefficient_positive.reshape(-1,100))], ignore_index=True)\n",
    "        #local_measure_dict['clustering_coefficient_negative'] = pd.concat([local_measure_dict['clustering_coefficient_negative'], pd.DataFrame(self.clustering_coefficient_negative.reshape(-1,100))], ignore_index=True)\n",
    "        #local_measure_dict['local_efficiency'] = pd.concat([local_measure_dict['local_efficiency'], pd.DataFrame(self.local_efficiency.reshape(-1,100))], ignore_index=True)"
   ]
  },
  {
   "cell_type": "code",
   "execution_count": null,
   "id": "56219c35-0029-4b66-9945-a6e6712f39eb",
   "metadata": {},
   "outputs": [],
   "source": [
    "for subj in UCLA_CNP_df['participant_id']:\n",
    "    corr = np.load(f'data/UCLA_CNP/FC100_{subj}.npy') # correlation matrix should be zero diagonal\n",
    "    network = Network(corr)\n",
    "    network.compute_local_graph_measures()\n",
    "    network.apped_measures_df(local_measure_dict, global_measure_dict)"
   ]
  },
  {
   "cell_type": "code",
   "execution_count": null,
   "id": "ac0b3bf2-4d14-499a-b532-eff36986aeb3",
   "metadata": {},
   "outputs": [],
   "source": [
    "local_measure_dict['betweenness']"
   ]
  },
  {
   "cell_type": "code",
   "execution_count": null,
   "id": "84ad5579-8c9b-404e-bd38-a3c55f12e002",
   "metadata": {},
   "outputs": [],
   "source": [
    "for key in local_measure_dict.keys():\n",
    "    column_names = [f\"{key}_{i+1}\" for i in range(100)]\n",
    "    local_measure_dict[key] = pd.DataFrame(columns=column_names)"
   ]
  },
  {
   "cell_type": "code",
   "execution_count": null,
   "id": "5908ab82-817d-441e-8edb-633f377d212e",
   "metadata": {},
   "outputs": [],
   "source": [
    "local_measure_dict['betweenness']"
   ]
  },
  {
   "cell_type": "code",
   "execution_count": null,
   "id": "349fcdc9-c8ee-4278-8a3c-a5fb723b7b80",
   "metadata": {},
   "outputs": [],
   "source": [
    "UCLA_CNP_df"
   ]
  },
  {
   "cell_type": "code",
   "execution_count": null,
   "id": "34472170-7bcf-44ef-8b5b-c7d36f50087c",
   "metadata": {},
   "outputs": [],
   "source": [
    "# # brainconn에는 있지만 bctpy에는 없는 것\n",
    "# brainconn.modularity.ci2ls\n",
    "# brainconn.modularity.ls2ci\n",
    "# brainconn.modularity.modularity_dir\n",
    "# brainconn.modularity.modularity_finetune_dir\n",
    "# brainconn.modularity.modularity_finetune_und\n",
    "# brainconn.modularity.modularity_finetune_und_sign\n",
    "# brainconn.modularity.modularity_louvain_dir\n",
    "# brainconn.modularity.modularity_louvain_und\n",
    "# brainconn.modularity.modularity_louvain_und_sign\n",
    "# brainconn.modularity.modularity_probtune_und_sign\n",
    "\n",
    "# brainconn.modularity.partition_distance\n",
    "# brainconn.nbs.Doi\n",
    "# brainconn.nbs.nbs_bct\n",
    "# brainconn.reference.latmio_dir\n",
    "# brainconn.reference.latmio_dir_connected\n",
    "# brainconn.reference.latmio_und\n",
    "# brainconn.reference.latmio_und_connected\n",
    "# brainconn.reference.makeevenCIJ\n",
    "# brainconn.reference.makefractalCIJ\n",
    "# brainconn.reference.makerandCIJ_und\n",
    "# brainconn.reference.makerandCIJdegreesfixed\n",
    "# brainconn.reference.makeringlatticeCIJ\n",
    "# brainconn.reference.maketoeplitzCIJ\n",
    "# brainconn.reference.null_model_dir_sign\n",
    "# brainconn.reference.null_model_und_sign\n",
    "# brainconn.reference.randmio_dir\n",
    "# brainconn.reference.randmio_dir_connected\n",
    "# brainconn.reference.randmio_dir_signed\n",
    "# brainconn.reference.randmio_und\n",
    "# brainconn.reference.randmio_und_connected\n",
    "# brainconn.reference.randmio_und_signed\n",
    "# brainconn.reference.randomize_graph_partial_und\n",
    "# brainconn.reference.randomizer_bin_und\n",
    "# brainconn.similarity.corr_flat_dir\n",
    "# brainconn.similarity.corr_flat_und\n",
    "# brainconn.similarity.dice_pairwise_und\n",
    "\n",
    "# # bctpy에는 있지만 brainconn에는 없는 것\n",
    "# Diffusion efficiency\n",
    "# Navigation\n",
    "# quasi_idempotence\n",
    "\n",
    "\n",
    "# resilience\n",
    "\n",
    "# 안 되는 것\n",
    "#mean_first_passage_time = brainconn.distance.mean_first_passage_time(corr) # (100,100)\n",
    "#edg_betw_wei = brainconn.centrality.edge_betweenness_wei(corr)[0] #(100, 100)\n",
    "#community_structure_modularity_link = brainconn.modularity.link_communities(corr) # adjacency matrix, (c, 100)\n",
    "#rich_club_coefficient = brainconn.core.rich_club_wu(corr) #(99,)\n",
    "#shortest_path = brainconn.distance.retrieve_shortest_path(corr) # t, hops, pmat 필요\n",
    "#community_structure_modularity_sign_louvian = brainconn.modularity.community_louvain(corr) # adjacency matrix\n",
    "#brainconn.modularity.modularity_und_sign(corr) # communitiy partition\n",
    "# community_structure_modularity_spectral = brainconn.modularity.modularity_und(corr) \n",
    "# within_module_degree_zscore_link = brainconn.centrality.module_degree_zscore(corr, community_structure_modularity_link) \n",
    "# within_module_degree_zscore_spectral = brainconn.centrality.module_degree_zscore(corr, community_structure_modularity_spectral)\n",
    "# participation_coef_link = brainconn.centrality.participation_coef(corr, community_structure_modularity_link)\n",
    "# participation_coef_spectral = brainconn.centrality.participation_coef(corr, community_structure_modularity_spectral)\n",
    "# participation_coef_sign = brainconn.centrality.participation_coef_sign(corr, community_structure_modularity_sign_louvian)\n",
    "# participation_coef_sign_gateway = brainconn.centrality.gateway_coef_sign(corr, community_structure_modularity_sign_louvian)\n",
    "# participation_coef_sign_diversity = brainconn.centrality.diversity_coef_sign(corr, community_structure_modularity_sign_louvian)\n",
    "# modularity_degeneracy = brainconn.clustering.agreement(corr) # input : partitions of networks\n",
    "# modularity_degeneracy_wei = brainconn.clustering.agreement_weighted(corr) # input : partitions of networks\n",
    "# s_core = brainconn.core.score_wu(corr) # s:level of s-core\n",
    "# consensus_partitioning = brainconn.clustering.consensus_und(corr) # agreement matrix\n",
    "# self.eigenvector_centrality_pagerank = brainconn.centrality.pagerank_centrality(corr,d=0.85) # adjacency matrix, d:damping factor\n",
    "# self.eigenvector_centrality = brainconn.centrality.eigenvector_centrality_und(corr) # adjacency matrix"
   ]
  },
  {
   "cell_type": "code",
   "execution_count": null,
   "id": "e05cd3b9-be52-420d-a837-29709f9792db",
   "metadata": {},
   "outputs": [],
   "source": [
    "for measure in local_measure_dict:\n",
    "    UCLA_CNP_df = pd.concat([UCLA_CNP_df, local_measure_dict[measure]], ignore_index=True)"
   ]
  },
  {
   "cell_type": "code",
   "execution_count": null,
   "id": "0db4ae2e-15cc-40ee-b9f7-7ad4a2a5af0f",
   "metadata": {},
   "outputs": [],
   "source": [
    "UCLA_CNP_df"
   ]
  },
  {
   "cell_type": "code",
   "execution_count": null,
   "id": "1ab9fd85-041d-4993-87fe-245209f734fa",
   "metadata": {},
   "outputs": [],
   "source": [
    "for measure in UCLA_CNP_df.columns.to_list[4:]\n",
    "    plt.figure(figsize=(10, 6))\n",
    "    scatter = plt.scatter(UCLA_CNP_df['measure'], UCLA_CNP_df['PC1'], c=UCLA_CNP_df['diagnosis'], cmap='viridis')\n",
    "    \n",
    "    plt.colorbar(scatter)\n",
    "    \n",
    "    plt.xlabel('x')\n",
    "    plt.ylabel('y')\n",
    "    plt.title('Scatter Plot with Color Representation of z')\n",
    "    iloc\n",
    "    plt.show()\n",
    "    plt.savefig('/mnt/data/scatter_plot.png')\n",
    "\n",
    "    plt.close()"
   ]
  },
  {
   "cell_type": "code",
   "execution_count": null,
   "id": "0000ef53-edf7-4063-bac0-f4b71e854e52",
   "metadata": {},
   "outputs": [],
   "source": []
  },
  {
   "cell_type": "code",
   "execution_count": null,
   "id": "b2ed8c92-51d4-49bf-8a7e-395f5700baa2",
   "metadata": {},
   "outputs": [],
   "source": [
    "ROI0=local_measure_dict['betweenness'].iloc[:, 0] # subject들의 한 ROI에서의 measure\n",
    "ROI0"
   ]
  },
  {
   "cell_type": "code",
   "execution_count": null,
   "id": "2ffc29f4-1f79-4775-9423-d99e595adcc9",
   "metadata": {},
   "outputs": [],
   "source": [
    "ROI0.hist()"
   ]
  },
  {
   "cell_type": "code",
   "execution_count": null,
   "id": "89ef3e03-4953-408c-9403-a87d625bef63",
   "metadata": {},
   "outputs": [],
   "source": [
    "UCLACNP_list=[]\n",
    "COBRE_list=[]\n",
    "Decnef_list=[]\n",
    "Total_list=[]\n",
    "\n",
    "file_list = glob.glob('data/UCLA_CNP/*.npy')\n",
    "for subj in file_list:\n",
    "    temp = subj.replace('data/','')\n",
    "    temp = temp.replace('.npy', '')\n",
    "    UCLACNP_list.append(temp)\n",
    "    \n",
    "file_list = glob.glob('data/COBRE/*.npy')\n",
    "for subj in file_list:\n",
    "    temp = subj.replace('data/','')\n",
    "    temp = temp.replace('.npy', '')\n",
    "    COBRE_list.append(temp)\n",
    "    \n",
    "file_list = glob.glob('data/Decnef/*.npy')\n",
    "for subj in file_list:\n",
    "    temp = subj.replace('data/','')\n",
    "    temp = temp.replace('.npy', '')\n",
    "    Decnef_list.append(temp)"
   ]
  },
  {
   "cell_type": "code",
   "execution_count": null,
   "id": "de3348d2-5d25-4ae2-a7ab-99ac3eddc5d1",
   "metadata": {},
   "outputs": [],
   "source": [
    "def local_ROI_distribution(local_measure_dict, measure): \n",
    "    for ROI_idx in range(3):\n",
    "        ROI = local_measure_dict[measure].iloc[:, ROI_idx]\n",
    "        ROI.hist()"
   ]
  },
  {
   "cell_type": "code",
   "execution_count": null,
   "id": "225e3080-2cdf-4203-ae23-bd275950365e",
   "metadata": {},
   "outputs": [],
   "source": [
    "local_ROI_distribution(local_measure_dict, measure='betweenness')"
   ]
  }
 ],
 "metadata": {
  "kernelspec": {
   "display_name": "Python 3 (ipykernel)",
   "language": "python",
   "name": "python3"
  },
  "language_info": {
   "codemirror_mode": {
    "name": "ipython",
    "version": 3
   },
   "file_extension": ".py",
   "mimetype": "text/x-python",
   "name": "python",
   "nbconvert_exporter": "python",
   "pygments_lexer": "ipython3",
   "version": "3.12.2"
  }
 },
 "nbformat": 4,
 "nbformat_minor": 5
}
