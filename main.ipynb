{
 "cells": [
  {
   "cell_type": "code",
   "execution_count": 1,
   "id": "1b89c304-ee82-4c81-9847-15bef8436497",
   "metadata": {},
   "outputs": [],
   "source": [
    "# 시도해봤으나 애매한 것들\n",
    "# distance, shorest_path_edges_n = brainconn.distance.distance_wei(corr_length) # connection-length matrix, 음수 가중치 없어야 함, (100,100)\n",
    "# a,b,c = brainconn.distance.distance_wei_floyd(corr) # connection-length matrix, 음수 가중치 사이클이 없어야 함, (100,100)\n",
    "# characteristic_path_length, global_efficiency, eccentricity, radius, diameter = brainconn.distance.charpath(distance, include_diagonal=True) # distance matrix\n",
    "# # small-worldness"
   ]
  },
  {
   "cell_type": "markdown",
   "id": "f48088e5-32e7-4ce8-b7b8-b588d013776d",
   "metadata": {},
   "source": [
    "pip install duecredit"
   ]
  },
  {
   "cell_type": "markdown",
   "id": "79bf959b-cb81-425e-8a9c-58cf2b5d0061",
   "metadata": {},
   "source": [
    "https://sites.google.com/site/bctnet/list-of-measures?authuser=0"
   ]
  },
  {
   "cell_type": "code",
   "execution_count": 2,
   "id": "b55dde05-3058-48a2-a6c3-38bd292b86ee",
   "metadata": {},
   "outputs": [
    {
     "name": "stdout",
     "output_type": "stream",
     "text": [
      "Requirement already satisfied: duecredit in c:\\users\\janet\\anaconda3\\envs\\graph_measure\\lib\\site-packages (0.9.3)\n",
      "Requirement already satisfied: requests in c:\\users\\janet\\anaconda3\\envs\\graph_measure\\lib\\site-packages (from duecredit) (2.31.0)\n",
      "Requirement already satisfied: citeproc-py>=0.4 in c:\\users\\janet\\anaconda3\\envs\\graph_measure\\lib\\site-packages (from duecredit) (0.6.0)\n",
      "Requirement already satisfied: lxml in c:\\users\\janet\\anaconda3\\envs\\graph_measure\\lib\\site-packages (from citeproc-py>=0.4->duecredit) (5.2.1)\n",
      "Requirement already satisfied: charset-normalizer<4,>=2 in c:\\users\\janet\\anaconda3\\envs\\graph_measure\\lib\\site-packages (from requests->duecredit) (2.0.4)\n",
      "Requirement already satisfied: idna<4,>=2.5 in c:\\users\\janet\\anaconda3\\envs\\graph_measure\\lib\\site-packages (from requests->duecredit) (3.4)\n",
      "Requirement already satisfied: urllib3<3,>=1.21.1 in c:\\users\\janet\\anaconda3\\envs\\graph_measure\\lib\\site-packages (from requests->duecredit) (2.1.0)\n",
      "Requirement already satisfied: certifi>=2017.4.17 in c:\\users\\janet\\anaconda3\\envs\\graph_measure\\lib\\site-packages (from requests->duecredit) (2024.2.2)\n"
     ]
    }
   ],
   "source": [
    "!pip install duecredit"
   ]
  },
  {
   "cell_type": "code",
   "execution_count": 3,
   "id": "d660a0ff-e082-4d69-adb8-8d94cd0dab33",
   "metadata": {},
   "outputs": [],
   "source": [
    "import numpy as np\n",
    "import seaborn as sns\n",
    "import matplotlib.pyplot as plt\n",
    "import pandas as pd\n",
    "import glob\n",
    "from pathlib import Path\n",
    "\n",
    "import brainconn"
   ]
  },
  {
   "cell_type": "code",
   "execution_count": 4,
   "id": "a9e80ac5-77d4-4609-817d-ff008f7999a3",
   "metadata": {},
   "outputs": [],
   "source": [
    "import os\n",
    "\n",
    "def createDirectory(directory):\n",
    "    try:\n",
    "        if not os.path.exists(directory):\n",
    "            os.makedirs(directory)\n",
    "    except OSError:\n",
    "        print(\"Error: Failed to create the directory.\")"
   ]
  },
  {
   "cell_type": "markdown",
   "id": "8984bd67-8f5f-46e1-9a32-aaa33c28f05c",
   "metadata": {},
   "source": [
    "Networks name : Functional Connectivity (100parcels)\n",
    "\n",
    "Dataset(Cohert) : UCLA_CNP, COBRE, Decnef\n",
    "\n",
    "Networks type : undirected, weighted, signed"
   ]
  },
  {
   "cell_type": "code",
   "execution_count": 11,
   "id": "b57bd6cc-dbb8-4b70-b7a1-8cc49a74c2d7",
   "metadata": {},
   "outputs": [
    {
     "data": {
      "text/plain": [
       "array([[0.        , 0.        , 0.        , ..., 0.42550347, 0.71972038,\n",
       "        0.37055566],\n",
       "       [0.        , 0.        , 0.36731194, ..., 0.        , 0.        ,\n",
       "        0.        ],\n",
       "       [0.        , 0.36731194, 0.        , ..., 0.        , 0.        ,\n",
       "        0.        ],\n",
       "       ...,\n",
       "       [0.42550347, 0.        , 0.        , ..., 0.        , 0.47453728,\n",
       "        0.58119803],\n",
       "       [0.71972038, 0.        , 0.        , ..., 0.47453728, 0.        ,\n",
       "        0.52537273],\n",
       "       [0.37055566, 0.        , 0.        , ..., 0.58119803, 0.52537273,\n",
       "        0.        ]])"
      ]
     },
     "execution_count": 11,
     "metadata": {},
     "output_type": "execute_result"
    }
   ],
   "source": [
    "corr = np.load('data/UCLA_CNP/FC100_sub-10159.npy')\n",
    "# adj = np.load('data/UCLA_CNP/adjacency/FC100_sub-10159_adj.npy') # node pairwise distance, 0~1사이 값\n",
    "top_10_percentile_threshold = np.percentile(corr, 90)\n",
    "fc_matrix_10 = np.where(corr < top_10_percentile_threshold, 0, corr)\n",
    "fc_matrix_10\n",
    "\n",
    "\n",
    "# 모든 연결성 값의 절대값을 기준으로 상위 10% 및 20%에 해당하는 임계값 계산\n",
    "abs_fc_matrix = np.abs(fc_matrix)  # 연결성 값의 절대값\n",
    "top_10_percentile_threshold = np.percentile(abs_fc_matrix, 90)  # 상위 10%의 임계값\n",
    "top_20_percentile_threshold = np.percentile(abs_fc_matrix, 80)  # 상위 20%의 임계값\n",
    "\n",
    "# 원본 연결성 매트릭스에서 상위 10% 및 20% 임계값보다 큰 양수 값과 작은 음수 값을 유지하고 나머지를 0으로 설정\n",
    "fc_matrix_top_10 = np.where((fc_matrix > top_10_percentile_threshold) | (fc_matrix < -top_10_percentile_threshold), fc_matrix, 0)\n",
    "fc_matrix_top_20 = np.where((fc_matrix > top_20_percentile_threshold) | (fc_matrix < -top_20_percentile_threshold), fc_matrix, 0)\n",
    "\n",
    "# 결과 확인\n",
    "print(\"상위 10% 임계값:\", top_10_percentile_threshold)\n",
    "print(\"상위 20% 임계값:\", top_20_percentile_threshold)"
   ]
  },
  {
   "cell_type": "code",
   "execution_count": 86,
   "id": "a36531d6-9223-411a-b3de-3c015fbf79d6",
   "metadata": {},
   "outputs": [],
   "source": [
    "local_measure_dict={\n",
    "    'betweenness': pd.DataFrame(),\n",
    "    'eigenvector_centrality': pd.DataFrame(),\n",
    "    'node_degree': pd.DataFrame(),\n",
    "    'strength': pd.DataFrame(),\n",
    "    'strengths_nodal_positive': pd.DataFrame(),\n",
    "    'strengths_nodal_negative': pd.DataFrame(),\n",
    "    'clustering_coefficient_positive': pd.DataFrame(),\n",
    "    'clustering_coefficient_negative': pd.DataFrame(),\n",
    "    'local_assortativity_positive': pd.DataFrame(),\n",
    "    'local_assortativity_negative': pd.DataFrame(),\n",
    "    'clustering_coefficient': pd.DataFrame(),\n",
    "    'local_efficiency': pd.DataFrame(),\n",
    "}\n",
    "\n",
    "global_measure_dict={\n",
    "    'transitivity': pd.DataFrame(),\n",
    "    'assortativity': pd.DataFrame(),\n",
    "    'strengths_total_positive': pd.DataFrame(),\n",
    "    'strengths_total_negative': pd.DataFrame(),\n",
    "    'global_efficiency': pd.DataFrame(),\n",
    "}"
   ]
  },
  {
   "cell_type": "code",
   "execution_count": 132,
   "id": "890745a4-26a4-4a19-aedf-ebb0904ab5ae",
   "metadata": {},
   "outputs": [],
   "source": [
    "class Network(object):\n",
    "    def __init__(self, corr, adj):\n",
    "        self.corr = corr\n",
    "        self.adj = adj\n",
    "\n",
    "        self.betweenness=None\n",
    "        self.node_degree=None\n",
    "        self.strength=None\n",
    "        self.strengths_nodal_positive=None\n",
    "        self.strengths_nodal_negative=None\n",
    "        self.clustering_coefficient=None\n",
    "        self.clustering_coefficient_positive=None\n",
    "        self.clustering_coefficient_negative=None\n",
    "        self.local_assortativity_positive=None\n",
    "        self.local_assortativity_negative=None\n",
    "        self.local_efficiency=None\n",
    "        \n",
    "        self.transitivity=None\n",
    "        self.assortativity=None\n",
    "        self.strengths_total_positive=None\n",
    "        self.strengths_total_negative=None\n",
    "        self.global_efficiency=None\n",
    "\n",
    "    def compute_local_graph_measures(self): #(100,)\n",
    "        self.betweenness = brainconn.centrality.betweenness_wei(corr)\n",
    "        self.node_degree = brainconn.degree.degrees_und(corr)\n",
    "        self.strength = brainconn.degree.strengths_und(corr)\n",
    "        self.strengths_nodal_positive, self.strengths_nodal_negative,_,_ = brainconn.degree.strengths_und_sign(corr)\n",
    "        self.clustering_coefficient = brainconn.clustering.clustering_coef_wu(corr)\n",
    "        self.local_assortativity_positive, self.local_assortativity_negative = brainconn.core.local_assortativity_wu_sign(corr) #invalid value encountered in scalar divide, NAN\n",
    "        self.clustering_coefficient_positive, self.clustering_coefficient_negative = brainconn.clustering.clustering_coef_wu_sign(corr) \n",
    "        self.local_efficiency = brainconn.distance.efficiency_wei(adj, local=True)\n",
    "        \n",
    "    def compute_global_graph_measures(self): #(1,)\n",
    "        self.transitivity = brainconn.clustering.transitivity_wu(corr)\n",
    "        self.assortativity = brainconn.core.assortativity_wei(corr)\n",
    "        _,_,self.strengths_total_positive, self.strengths_total_positive = brainconn.degree.strengths_und_sign(corr)\n",
    "        self.density, vertex_n, edge_n = brainconn.physical_connectivity.density_und(corr)\n",
    "        self.global_efficiency = brainconn.distance.efficiency_wei(adj, local=False)\n",
    "        \n",
    "    def apped_measures_df(self, local_measure_dict, global_measure_dict):\n",
    "        local_measure_dict['betweenness'] = pd.concat([local_measure_dict['betweenness'], pd.DataFrame(self.betweenness.reshape(-1,100))], ignore_index=True)\n",
    "        local_measure_dict['node_degree'] = pd.concat([local_measure_dict['node_degree'], pd.DataFrame(self.node_degree.reshape(-1,100))], ignore_index=True)\n",
    "        local_measure_dict['strength'] = pd.concat([local_measure_dict['strength'], pd.DataFrame(self.strength.reshape(-1,100))], ignore_index=True)\n",
    "        local_measure_dict['strengths_nodal_positive'] = pd.concat([local_measure_dict['strengths_nodal_positive'], pd.DataFrame(self.strengths_nodal_positive.reshape(-1,100))], ignore_index=True)\n",
    "        local_measure_dict['strengths_nodal_negative'] = pd.concat([local_measure_dict['strengths_nodal_negative'], pd.DataFrame(self.strengths_nodal_negative.reshape(-1,100))], ignore_index=True)\n",
    "        local_measure_dict['clustering_coefficient'] = pd.concat([local_measure_dict['clustering_coefficient'], pd.DataFrame(self.clustering_coefficient.reshape(-1,100))], ignore_index=True)\n",
    "        local_measure_dict['local_assortativity_positive'] = pd.concat([local_measure_dict['local_assortativity_positive'], pd.DataFrame(self.local_assortativity_positive.reshape(-1,100))], ignore_index=True)\n",
    "        local_measure_dict['local_assortativity_negative'] = pd.concat([local_measure_dict['local_assortativity_negative'], pd.DataFrame(self.local_assortativity_negative.reshape(-1,100))], ignore_index=True)\n",
    "        local_measure_dict['clustering_coefficient_positive'] = pd.concat([local_measure_dict['clustering_coefficient_positive'], pd.DataFrame(self.clustering_coefficient_positive.reshape(-1,100))], ignore_index=True)\n",
    "        local_measure_dict['clustering_coefficient_negative'] = pd.concat([local_measure_dict['clustering_coefficient_negative'], pd.DataFrame(self.clustering_coefficient_negative.reshape(-1,100))], ignore_index=True)\n",
    "        local_measure_dict['local_efficiency'] = pd.concat([local_measure_dict['local_efficiency'], pd.DataFrame(self.local_efficiency.reshape(-1,100))], ignore_index=True)"
   ]
  },
  {
   "cell_type": "code",
   "execution_count": 133,
   "id": "11d68338-72a1-4864-ac7b-9e1b05c4e865",
   "metadata": {},
   "outputs": [],
   "source": [
    "UCLA_CNP_df=pd.read_csv('data/UCLA_CNP/UCLA_CNP_100FC_phenotype_cognition.csv')[['participant_id', 'diagnosis', 'Cohert', 'PC1']]"
   ]
  },
  {
   "cell_type": "code",
   "execution_count": null,
   "id": "56219c35-0029-4b66-9945-a6e6712f39eb",
   "metadata": {},
   "outputs": [],
   "source": [
    "name='local_efficiency'\n",
    "for subj in UCLA_CNP_df['participant_id']:\n",
    "    corr = np.load(f'data/UCLA_CNP/FC100_{subj}.npy') # correlation matrix should be zero diagonal\n",
    "    adj = np.load(f'data/UCLA_CNP/adjacency/FC100_{subj}_adj.npy')\n",
    "    network = Network(corr, adj)\n",
    "    network.compute_local_graph_measures()\n",
    "    network.apped_measures_df(local_measure_dict, global_measure_dict)"
   ]
  },
  {
   "cell_type": "code",
   "execution_count": null,
   "id": "fc691cf9-9e64-4d04-8bd9-388080827d7d",
   "metadata": {},
   "outputs": [],
   "source": [
    "local_measure_dict[name]"
   ]
  },
  {
   "cell_type": "code",
   "execution_count": null,
   "id": "84ad5579-8c9b-404e-bd38-a3c55f12e002",
   "metadata": {},
   "outputs": [],
   "source": [
    "for key in local_measure_dict.keys():\n",
    "    column_names = [f\"{key}_{i+1}\" for i in range(100)]\n",
    "    local_measure_dict[key].columns=column_names\n",
    "column_names = [f\"{name}_{i+1}\" for i in range(100)]\n",
    "local_measure_dict[name].columns=column_names"
   ]
  },
  {
   "cell_type": "code",
   "execution_count": null,
   "id": "ef9fe756-f8cb-4501-8fee-deac31ace212",
   "metadata": {},
   "outputs": [],
   "source": [
    "local_measure_dict[name]"
   ]
  },
  {
   "cell_type": "code",
   "execution_count": null,
   "id": "e05cd3b9-be52-420d-a837-29709f9792db",
   "metadata": {},
   "outputs": [],
   "source": [
    "for measure_name, measure_df in local_measure_dict.items():\n",
    "    UCLA_CNP_df = pd.concat([UCLA_CNP_df, measure_df, axis=1)\n",
    "UCLA_CNP_df = pd.concat([UCLA_CNP_df, local_measure_dict[name]], axis=1)"
   ]
  },
  {
   "cell_type": "code",
   "execution_count": null,
   "id": "0db4ae2e-15cc-40ee-b9f7-7ad4a2a5af0f",
   "metadata": {},
   "outputs": [],
   "source": [
    "UCLA_CNP_df"
   ]
  },
  {
   "cell_type": "code",
   "execution_count": null,
   "id": "ce6f596b-4033-45a3-9a0f-3a7f60d2ab9b",
   "metadata": {
    "scrolled": true
   },
   "outputs": [],
   "source": [
    "for measure in UCLA_CNP_df.columns.to_list()[4:]:\n",
    "    plt.figure(figsize=(5, 5))\n",
    "    scatter = plt.scatter(UCLA_CNP_df[measure], UCLA_CNP_df['PC1'])\n",
    "    \n",
    "    plt.xlabel(f'{measure}')\n",
    "    plt.ylabel('Cognition Score')\n",
    "    dir = f'results/local/{name}'\n",
    "    createDirectory(dir)\n",
    "    plt.savefig(Path(dir)/f'{measure}.png')\n",
    "    plt.show()\n",
    "    \n",
    "    plt.close()"
   ]
  },
  {
   "cell_type": "code",
   "execution_count": null,
   "id": "1ab9fd85-041d-4993-87fe-245209f734fa",
   "metadata": {},
   "outputs": [],
   "source": [
    "# for measure in UCLA_CNP_df.columns.to_list[4:]\n",
    "#     plt.figure(figsize=(10, 6))\n",
    "#     scatter = plt.scatter(UCLA_CNP_df['measure'], UCLA_CNP_df['PC1'], c=UCLA_CNP_df['diagnosis'], cmap='viridis')\n",
    "    \n",
    "#     plt.colorbar(scatter)\n",
    "    \n",
    "#     plt.xlabel('x')\n",
    "#     plt.ylabel('y')\n",
    "#     plt.title('Scatter Plot with Color Representation of z')\n",
    "#     iloc\n",
    "#     plt.show()\n",
    "#     plt.savefig('/mnt/data/scatter_plot.png')\n",
    "\n",
    "#     plt.close()"
   ]
  },
  {
   "cell_type": "code",
   "execution_count": null,
   "id": "8718957a-18ef-4476-8142-1ae11c6e3e63",
   "metadata": {},
   "outputs": [],
   "source": [
    "# UCLA_CNP_df['diagnosis'].unique()"
   ]
  },
  {
   "cell_type": "code",
   "execution_count": null,
   "id": "fe9c0605-4d5e-4717-918a-545c05593f1e",
   "metadata": {},
   "outputs": [],
   "source": [
    "# UCLA_CNP_df['diagnosis'] = UCLA_CNP_df['diagnosis'].map({'CONTROL' : 0, 'SCHZ' : 1, 'BIPOLAR':2, 'ADHD':3})"
   ]
  },
  {
   "cell_type": "code",
   "execution_count": null,
   "id": "34472170-7bcf-44ef-8b5b-c7d36f50087c",
   "metadata": {},
   "outputs": [],
   "source": [
    "# # brainconn에는 있지만 bctpy에는 없는 것\n",
    "# brainconn.modularity.ci2ls\n",
    "# brainconn.modularity.ls2ci\n",
    "# brainconn.modularity.modularity_dir\n",
    "# brainconn.modularity.modularity_finetune_dir\n",
    "# brainconn.modularity.modularity_finetune_und\n",
    "# brainconn.modularity.modularity_finetune_und_sign\n",
    "# brainconn.modularity.modularity_louvain_dir\n",
    "# brainconn.modularity.modularity_louvain_und\n",
    "# brainconn.modularity.modularity_louvain_und_sign\n",
    "# brainconn.modularity.modularity_probtune_und_sign\n",
    "\n",
    "# brainconn.modularity.partition_distance\n",
    "# brainconn.nbs.Doi\n",
    "# brainconn.nbs.nbs_bct\n",
    "# brainconn.reference.latmio_dir\n",
    "# brainconn.reference.latmio_dir_connected\n",
    "# brainconn.reference.latmio_und\n",
    "# brainconn.reference.latmio_und_connected\n",
    "# brainconn.reference.makeevenCIJ\n",
    "# brainconn.reference.makefractalCIJ\n",
    "# brainconn.reference.makerandCIJ_und\n",
    "# brainconn.reference.makerandCIJdegreesfixed\n",
    "# brainconn.reference.makeringlatticeCIJ\n",
    "# brainconn.reference.maketoeplitzCIJ\n",
    "# brainconn.reference.null_model_dir_sign\n",
    "# brainconn.reference.null_model_und_sign\n",
    "# brainconn.reference.randmio_dir\n",
    "# brainconn.reference.randmio_dir_connected\n",
    "# brainconn.reference.randmio_dir_signed\n",
    "# brainconn.reference.randmio_und\n",
    "# brainconn.reference.randmio_und_connected\n",
    "# brainconn.reference.randmio_und_signed\n",
    "# brainconn.reference.randomize_graph_partial_und\n",
    "# brainconn.reference.randomizer_bin_und\n",
    "# brainconn.similarity.corr_flat_dir\n",
    "# brainconn.similarity.corr_flat_und\n",
    "# brainconn.similarity.dice_pairwise_und\n",
    "\n",
    "# # bctpy에는 있지만 brainconn에는 없는 것\n",
    "# Diffusion efficiency\n",
    "# Navigation\n",
    "# quasi_idempotence\n",
    "\n",
    "\n",
    "# resilience\n",
    "\n",
    "# 안 되는 것\n",
    "#mean_first_passage_time = brainconn.distance.mean_first_passage_time(corr) # (100,100)\n",
    "#edg_betw_wei = brainconn.centrality.edge_betweenness_wei(corr)[0] #(100, 100)\n",
    "#community_structure_modularity_link = brainconn.modularity.link_communities(corr) # adjacency matrix, (c, 100)\n",
    "#rich_club_coefficient = brainconn.core.rich_club_wu(corr) #(99,)\n",
    "#shortest_path = brainconn.distance.retrieve_shortest_path(corr) # t, hops, pmat 필요\n",
    "#community_structure_modularity_sign_louvian = brainconn.modularity.community_louvain(corr) # adjacency matrix\n",
    "#brainconn.modularity.modularity_und_sign(corr) # communitiy partition\n",
    "# community_structure_modularity_spectral = brainconn.modularity.modularity_und(corr) \n",
    "# within_module_degree_zscore_link = brainconn.centrality.module_degree_zscore(corr, community_structure_modularity_link) \n",
    "# within_module_degree_zscore_spectral = brainconn.centrality.module_degree_zscore(corr, community_structure_modularity_spectral)\n",
    "# participation_coef_link = brainconn.centrality.participation_coef(corr, community_structure_modularity_link)\n",
    "# participation_coef_spectral = brainconn.centrality.participation_coef(corr, community_structure_modularity_spectral)\n",
    "# participation_coef_sign = brainconn.centrality.participation_coef_sign(corr, community_structure_modularity_sign_louvian)\n",
    "# participation_coef_sign_gateway = brainconn.centrality.gateway_coef_sign(corr, community_structure_modularity_sign_louvian)\n",
    "# participation_coef_sign_diversity = brainconn.centrality.diversity_coef_sign(corr, community_structure_modularity_sign_louvian)\n",
    "# modularity_degeneracy = brainconn.clustering.agreement(corr) # input : partitions of networks\n",
    "# modularity_degeneracy_wei = brainconn.clustering.agreement_weighted(corr) # input : partitions of networks\n",
    "# s_core = brainconn.core.score_wu(corr) # s:level of s-core\n",
    "# consensus_partitioning = brainconn.clustering.consensus_und(corr) # agreement matrix\n",
    "# self.eigenvector_centrality_pagerank = brainconn.centrality.pagerank_centrality(corr,d=0.85) # adjacency matrix, d:damping factor\n",
    "# self.eigenvector_centrality = brainconn.centrality.eigenvector_centrality_und(corr) # adjacency matrix"
   ]
  },
  {
   "cell_type": "code",
   "execution_count": null,
   "id": "89ef3e03-4953-408c-9403-a87d625bef63",
   "metadata": {},
   "outputs": [],
   "source": [
    "# UCLACNP_list=[]\n",
    "# COBRE_list=[]\n",
    "# Decnef_list=[]\n",
    "# Total_list=[]\n",
    "\n",
    "# file_list = glob.glob('data/UCLA_CNP/*.npy')\n",
    "# for subj in file_list:\n",
    "#     temp = subj.replace('data/','')\n",
    "#     temp = temp.replace('.npy', '')\n",
    "#     UCLACNP_list.append(temp)\n",
    "    \n",
    "# file_list = glob.glob('data/COBRE/*.npy')\n",
    "# for subj in file_list:\n",
    "#     temp = subj.replace('data/','')\n",
    "#     temp = temp.replace('.npy', '')\n",
    "#     COBRE_list.append(temp)\n",
    "    \n",
    "# file_list = glob.glob('data/Decnef/*.npy')\n",
    "# for subj in file_list:\n",
    "#     temp = subj.replace('data/','')\n",
    "#     temp = temp.replace('.npy', '')\n",
    "#     Decnef_list.append(temp)"
   ]
  },
  {
   "cell_type": "code",
   "execution_count": null,
   "id": "0ef6df75-5ece-4a3e-9825-f292ee0f1a15",
   "metadata": {},
   "outputs": [],
   "source": []
  },
  {
   "cell_type": "code",
   "execution_count": null,
   "id": "67804375-c1c0-4711-a625-45aa67a5ae9d",
   "metadata": {},
   "outputs": [],
   "source": []
  },
  {
   "cell_type": "code",
   "execution_count": null,
   "id": "73debcad-31b6-4d2e-9b14-d863b3ee3ab5",
   "metadata": {},
   "outputs": [],
   "source": []
  },
  {
   "cell_type": "code",
   "execution_count": null,
   "id": "37908c9c-a49d-4854-8ab5-8066301919e4",
   "metadata": {},
   "outputs": [],
   "source": []
  },
  {
   "cell_type": "code",
   "execution_count": null,
   "id": "5c955b6b-57df-47b4-ba14-b8ae189498ba",
   "metadata": {},
   "outputs": [],
   "source": []
  },
  {
   "cell_type": "code",
   "execution_count": null,
   "id": "adba7cbe-af8d-4ccc-8393-644afa35a97a",
   "metadata": {},
   "outputs": [],
   "source": []
  },
  {
   "cell_type": "code",
   "execution_count": null,
   "id": "e42d134d-7c7c-4d99-8c3f-fb1d0834e2a2",
   "metadata": {},
   "outputs": [],
   "source": []
  },
  {
   "cell_type": "code",
   "execution_count": null,
   "id": "a763a010-492e-4deb-8ec1-b66c61a89c55",
   "metadata": {},
   "outputs": [],
   "source": []
  },
  {
   "cell_type": "code",
   "execution_count": null,
   "id": "a5c81f7b-0580-42d0-96d7-8b617d1fa831",
   "metadata": {},
   "outputs": [],
   "source": []
  },
  {
   "cell_type": "code",
   "execution_count": null,
   "id": "4fb7b8d1-8496-4d86-a288-0104ab88174b",
   "metadata": {},
   "outputs": [],
   "source": []
  },
  {
   "cell_type": "code",
   "execution_count": null,
   "id": "443d66f7-2dfd-4df5-ae22-7ca3947fb83b",
   "metadata": {},
   "outputs": [],
   "source": []
  }
 ],
 "metadata": {
  "kernelspec": {
   "display_name": "graph_measure",
   "language": "python",
   "name": "graph_measure"
  },
  "language_info": {
   "codemirror_mode": {
    "name": "ipython",
    "version": 3
   },
   "file_extension": ".py",
   "mimetype": "text/x-python",
   "name": "python",
   "nbconvert_exporter": "python",
   "pygments_lexer": "ipython3",
   "version": "3.12.2"
  }
 },
 "nbformat": 4,
 "nbformat_minor": 5
}
