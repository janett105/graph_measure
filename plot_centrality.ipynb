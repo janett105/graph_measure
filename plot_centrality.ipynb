{
 "cells": [
  {
   "cell_type": "code",
   "execution_count": 4,
   "metadata": {},
   "outputs": [
    {
     "name": "stdout",
     "output_type": "stream",
     "text": [
      "C:\\Users\\JihooPark\\anaconda3\\envs\\graph_measure\\python.exe\n"
     ]
    }
   ],
   "source": [
    "import sys\n",
    "print(sys.executable)"
   ]
  },
  {
   "cell_type": "code",
   "execution_count": 3,
   "metadata": {
    "collapsed": false,
    "jupyter": {
     "outputs_hidden": false
    }
   },
   "outputs": [],
   "source": [
    "%matplotlib inline"
   ]
  },
  {
   "cell_type": "markdown",
   "metadata": {},
   "source": [
    "\n",
    "\n",
    "#  Calculate centrality measures\n",
    "\n",
    "\n",
    "Centrality is a thing with stuff and things.\n",
    "\n",
    "\n"
   ]
  },
  {
   "cell_type": "code",
   "execution_count": null,
   "metadata": {
    "collapsed": false,
    "jupyter": {
     "outputs_hidden": false
    }
   },
   "outputs": [],
   "source": [
    "# sphinx_gallery_thumbnail_number = 3"
   ]
  },
  {
   "cell_type": "markdown",
   "metadata": {},
   "source": [
    "Start with the necessary imports\n",
    "--------------------------------\n",
    "\n"
   ]
  },
  {
   "cell_type": "code",
   "execution_count": 3,
   "metadata": {
    "collapsed": false,
    "jupyter": {
     "outputs_hidden": false
    }
   },
   "outputs": [
    {
     "ename": "ModuleNotFoundError",
     "evalue": "No module named 'brainconn'",
     "output_type": "error",
     "traceback": [
      "\u001b[1;31m---------------------------------------------------------------------------\u001b[0m",
      "\u001b[1;31mModuleNotFoundError\u001b[0m                       Traceback (most recent call last)",
      "Cell \u001b[1;32mIn[3], line 7\u001b[0m\n\u001b[0;32m      4\u001b[0m \u001b[38;5;28;01mimport\u001b[39;00m \u001b[38;5;21;01mseaborn\u001b[39;00m \u001b[38;5;28;01mas\u001b[39;00m \u001b[38;5;21;01msns\u001b[39;00m\n\u001b[0;32m      5\u001b[0m \u001b[38;5;28;01mimport\u001b[39;00m \u001b[38;5;21;01mmatplotlib\u001b[39;00m\u001b[38;5;21;01m.\u001b[39;00m\u001b[38;5;21;01mpyplot\u001b[39;00m \u001b[38;5;28;01mas\u001b[39;00m \u001b[38;5;21;01mplt\u001b[39;00m\n\u001b[1;32m----> 7\u001b[0m \u001b[38;5;28;01mimport\u001b[39;00m \u001b[38;5;21;01mbrainconn\u001b[39;00m\n",
      "\u001b[1;31mModuleNotFoundError\u001b[0m: No module named 'brainconn'"
     ]
    }
   ],
   "source": [
    "import os.path as op\n",
    "\n",
    "import numpy as np\n",
    "import seaborn as sns\n",
    "import matplotlib.pyplot as plt\n",
    "\n",
    "import brainconn\n",
    "import bctpy"
   ]
  },
  {
   "cell_type": "markdown",
   "metadata": {},
   "source": [
    "Get some data\n",
    "--------------------------------\n",
    "\n"
   ]
  },
  {
   "cell_type": "code",
   "execution_count": 2,
   "metadata": {
    "collapsed": false,
    "jupyter": {
     "outputs_hidden": false
    }
   },
   "outputs": [
    {
     "ename": "NameError",
     "evalue": "name 'brainconn' is not defined",
     "output_type": "error",
     "traceback": [
      "\u001b[1;31m---------------------------------------------------------------------------\u001b[0m",
      "\u001b[1;31mNameError\u001b[0m                                 Traceback (most recent call last)",
      "Cell \u001b[1;32mIn[2], line 1\u001b[0m\n\u001b[1;32m----> 1\u001b[0m corr \u001b[38;5;241m=\u001b[39m np\u001b[38;5;241m.\u001b[39mload(op\u001b[38;5;241m.\u001b[39mjoin(brainconn\u001b[38;5;241m.\u001b[39mutils\u001b[38;5;241m.\u001b[39mget_resource_path(), \u001b[38;5;124m'\u001b[39m\u001b[38;5;124mdata/UCLA_CNP/FC100_sub-10159.npy\u001b[39m\u001b[38;5;124m'\u001b[39m))\n\u001b[0;32m      3\u001b[0m \u001b[38;5;66;03m# Zero diagonal\u001b[39;00m\n\u001b[0;32m      4\u001b[0m adj_wei \u001b[38;5;241m=\u001b[39m corr \u001b[38;5;241m-\u001b[39m np\u001b[38;5;241m.\u001b[39meye(corr\u001b[38;5;241m.\u001b[39mshape[\u001b[38;5;241m0\u001b[39m])\n",
      "\u001b[1;31mNameError\u001b[0m: name 'brainconn' is not defined"
     ]
    }
   ],
   "source": [
    "corr = np.load(op.join(brainconn.utils.get_resource_path(), 'data/UCLA_CNP/FC100_sub-10159.npy'))\n",
    "\n",
    "# Zero diagonal\n",
    "adj_wei = corr - np.eye(corr.shape[0])\n",
    "adj_bin = brainconn.utils.binarize(brainconn.utils.threshold_proportional(adj_wei, 0.2))"
   ]
  },
  {
   "cell_type": "markdown",
   "metadata": {},
   "source": [
    "Look at weighted adjacency matrix\n",
    "-------------------------------------------\n",
    "\n"
   ]
  },
  {
   "cell_type": "code",
   "execution_count": null,
   "metadata": {
    "collapsed": false,
    "jupyter": {
     "outputs_hidden": false
    }
   },
   "outputs": [],
   "source": [
    "fig, ax = plt.subplots(figsize=(7, 7))\n",
    "ax.imshow(adj_wei)\n",
    "fig.show()"
   ]
  },
  {
   "cell_type": "markdown",
   "metadata": {},
   "source": [
    "Look at binary adjacency matrix\n",
    "-------------------------------------------\n",
    "\n"
   ]
  },
  {
   "cell_type": "code",
   "execution_count": null,
   "metadata": {
    "collapsed": false,
    "jupyter": {
     "outputs_hidden": false
    }
   },
   "outputs": [],
   "source": [
    "fig, ax = plt.subplots(figsize=(7, 7))\n",
    "ax.imshow(adj_bin)\n",
    "fig.show()"
   ]
  },
  {
   "cell_type": "markdown",
   "metadata": {},
   "source": [
    "Compute stuff\n",
    "-------------------------------------------\n",
    "\n"
   ]
  },
  {
   "cell_type": "code",
   "execution_count": null,
   "metadata": {
    "collapsed": false,
    "jupyter": {
     "outputs_hidden": false
    }
   },
   "outputs": [],
   "source": [
    "betw_wei = brainconn.centrality.betweenness_wei(adj_wei)\n",
    "betw_bin = brainconn.centrality.betweenness_bin(adj_bin)\n",
    "edg_betw_wei = brainconn.centrality.edge_betweenness_wei(adj_wei)[0]\n",
    "idx = np.triu_indices(edg_betw_wei.shape[0], k=1)\n",
    "edg_betw_wei = edg_betw_wei[idx]\n",
    "edg_betw_wei = edg_betw_wei[edg_betw_wei > 0]\n",
    "edg_betw_bin = brainconn.centrality.edge_betweenness_bin(adj_bin)[0]\n",
    "idx = np.triu_indices(edg_betw_bin.shape[0], k=1)\n",
    "edg_betw_bin = edg_betw_bin[idx]\n",
    "edg_betw_bin = edg_betw_bin[edg_betw_bin > 0]\n",
    "\n",
    "vals = [betw_wei, betw_bin, edg_betw_wei, edg_betw_bin]\n",
    "names = ['Weighted Node Betweenness Centrality',\n",
    "         'Binary Node Betweenness Centrality',\n",
    "         'Weighted Edge Betweenness Centrality',\n",
    "         'Binary Edge Betweenness Centrality']\n",
    "fig, axes = plt.subplots(nrows=4, figsize=(12, 7))\n",
    "for i in range(4):\n",
    "    sns.distplot(vals[i], ax=axes[i])\n",
    "    axes[i].set_title(names[i])\n",
    "fig.tight_layout()\n",
    "fig.show()"
   ]
  }
 ],
 "metadata": {
  "kernelspec": {
   "display_name": "graph_measure",
   "language": "python",
   "name": "graph_measure"
  },
  "language_info": {
   "codemirror_mode": {
    "name": "ipython",
    "version": 3
   },
   "file_extension": ".py",
   "mimetype": "text/x-python",
   "name": "python",
   "nbconvert_exporter": "python",
   "pygments_lexer": "ipython3",
   "version": "3.12.2"
  }
 },
 "nbformat": 4,
 "nbformat_minor": 4
}
