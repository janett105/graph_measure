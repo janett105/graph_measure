{
 "cells": [
  {
   "cell_type": "markdown",
   "id": "f48088e5-32e7-4ce8-b7b8-b588d013776d",
   "metadata": {},
   "source": [
    "pip install duecredit"
   ]
  },
  {
   "cell_type": "markdown",
   "id": "79bf959b-cb81-425e-8a9c-58cf2b5d0061",
   "metadata": {},
   "source": [
    "\n",
    "\n",
    "\n",
    "https://sites.google.com/site/bctnet/list-of-measures?authuser=0"
   ]
  },
  {
   "cell_type": "code",
   "execution_count": 164,
   "id": "d660a0ff-e082-4d69-adb8-8d94cd0dab33",
   "metadata": {},
   "outputs": [],
   "source": [
    "import numpy as np\n",
    "import seaborn as sns\n",
    "import matplotlib.pyplot as plt\n",
    "import pandas as pd\n",
    "import glob\n",
    "\n",
    "import brainconn"
   ]
  },
  {
   "cell_type": "markdown",
   "id": "8984bd67-8f5f-46e1-9a32-aaa33c28f05c",
   "metadata": {},
   "source": [
    "Networks name : Functional Connectivity (100parcels)\n",
    "\n",
    "Dataset(Cohert) : UCLA_CNP, COBRE, Decnef\n",
    "\n",
    "Networks type : undirected, weighted, signed"
   ]
  },
  {
   "cell_type": "code",
   "execution_count": 165,
   "id": "89ef3e03-4953-408c-9403-a87d625bef63",
   "metadata": {},
   "outputs": [],
   "source": [
    "UCLACNP_list=[]\n",
    "COBRE_list=[]\n",
    "Decnef_list=[]\n",
    "Total_list=[]\n",
    "\n",
    "file_list = glob.glob('data/UCLA_CNP/*.npy')\n",
    "for subj in file_list:\n",
    "    temp = subj.replace('data/','')\n",
    "    temp = temp.replace('.npy', '')\n",
    "    UCLACNP_list.append(temp)\n",
    "    \n",
    "file_list = glob.glob('data/COBRE/*.npy')\n",
    "for subj in file_list:\n",
    "    temp = subj.replace('data/','')\n",
    "    temp = temp.replace('.npy', '')\n",
    "    COBRE_list.append(temp)\n",
    "    \n",
    "file_list = glob.glob('data/Decnef/*.npy')\n",
    "for subj in file_list:\n",
    "    temp = subj.replace('data/','')\n",
    "    temp = temp.replace('.npy', '')\n",
    "    Decnef_list.append(temp)"
   ]
  },
  {
   "cell_type": "code",
   "execution_count": 166,
   "id": "a36531d6-9223-411a-b3de-3c015fbf79d6",
   "metadata": {},
   "outputs": [],
   "source": [
    "local_measure_dict={\n",
    "    'betweenness': pd.DataFrame(),\n",
    "    'eigenvector_centrality': pd.DataFrame(),\n",
    "    'node_degree': pd.DataFrame(),\n",
    "    'strength': pd.DataFrame(),\n",
    "    'clustering_coefficient': pd.DataFrame(),\n",
    "}\n",
    "\n",
    "global_measure_dict={\n",
    "}"
   ]
  },
  {
   "cell_type": "code",
   "execution_count": 173,
   "id": "890745a4-26a4-4a19-aedf-ebb0904ab5ae",
   "metadata": {},
   "outputs": [],
   "source": [
    "class Network(object):\n",
    "    def __init__(self, corr):\n",
    "        self.corr = corr\n",
    "\n",
    "        self.betweenness=None\n",
    "        self.eigenvector_centrality=None\n",
    "        self.node_degree=None\n",
    "        self.strength=None\n",
    "        self.clustering_coefficient=None\n",
    "\n",
    "    def compute_local_graph_measures(self): #(100,)\n",
    "        self.betweenness = brainconn.centrality.betweenness_wei(corr)\n",
    "        self.eigenvector_centrality = brainconn.centrality.eigenvector_centrality_und(corr)\n",
    "        self.node_degree = brainconn.degree.degrees_und(corr)\n",
    "        self.strength = brainconn.degree.strengths_und(corr)\n",
    "        self.clustering_coefficient = brainconn.clustering.clustering_coef_wu(corr)\n",
    "        # self.local_efficiency = brainconn.distance.efficiency_wei(corr) # () shape\n",
    "    \n",
    "    def compute_global_graph_measures(self): #(1,)\n",
    "        global_efficiency = brainconn.distance.charpath(corr) # len 5 tuple\n",
    "        \n",
    "    def apped_measures_df(self, local_measure_dict, global_measure_dict):\n",
    "        local_measure_dict['betweenness'] = pd.concat([local_measure_dict['betweenness'], pd.DataFrame(self.betweenness.reshape(-1,100))], ignore_index=True)\n",
    "        local_measure_dict['eigenvector_centrality'] = pd.concat([local_measure_dict['eigenvector_centrality'], pd.DataFrame(self.eigenvector_centrality.reshape(-1,100))], ignore_index=True)\n",
    "        local_measure_dict['node_degree'] = pd.concat([local_measure_dict['node_degree'], pd.DataFrame(self.node_degree.reshape(-1,100))], ignore_index=True)\n",
    "        local_measure_dict['strength'] = pd.concat([local_measure_dict['strength'], pd.DataFrame(self.strength.reshape(-1,100))], ignore_index=True)\n",
    "        local_measure_dict['clustering_coefficient'] = pd.concat([local_measure_dict['clustering_coefficient'], pd.DataFrame(self.clustering_coefficient.reshape(-1,100))], ignore_index=True)"
   ]
  },
  {
   "cell_type": "code",
   "execution_count": 174,
   "id": "56219c35-0029-4b66-9945-a6e6712f39eb",
   "metadata": {},
   "outputs": [],
   "source": [
    "for subj in UCLACNP_list:\n",
    "    corr = np.load(f'data/{subj}.npy') # correlation matrix should be zero diagonal\n",
    "    network = Network(corr)\n",
    "    network.compute_local_graph_measures()\n",
    "    network.apped_measures_df(local_measure_dict, global_measure_dict)"
   ]
  },
  {
   "cell_type": "code",
   "execution_count": 181,
   "id": "b2ed8c92-51d4-49bf-8a7e-395f5700baa2",
   "metadata": {},
   "outputs": [
    {
     "data": {
      "text/plain": [
       "0      1614.0\n",
       "1      3525.0\n",
       "2       805.0\n",
       "3      1436.0\n",
       "4      4058.0\n",
       "        ...  \n",
       "254     588.0\n",
       "255    1512.0\n",
       "256    1776.0\n",
       "257    3680.0\n",
       "258    1065.0\n",
       "Name: 0, Length: 259, dtype: float64"
      ]
     },
     "execution_count": 181,
     "metadata": {},
     "output_type": "execute_result"
    }
   ],
   "source": [
    "ROI0=local_measure_dict['betweenness'].iloc[:, 0] # subject들의 한 ROI에서의 measure\n",
    "ROI0"
   ]
  },
  {
   "cell_type": "code",
   "execution_count": 182,
   "id": "2ffc29f4-1f79-4775-9423-d99e595adcc9",
   "metadata": {},
   "outputs": [
    {
     "data": {
      "text/plain": [
       "<Axes: >"
      ]
     },
     "execution_count": 182,
     "metadata": {},
     "output_type": "execute_result"
    },
    {
     "data": {
      "image/png": "[encoded data removed]",
      "text/plain": [
       "<Figure size 640x480 with 1 Axes>"
      ]
     },
     "metadata": {},
     "output_type": "display_data"
    }
   ],
   "source": [
    "ROI0.hist()"
   ]
  },
  {
   "cell_type": "code",
   "execution_count": 194,
   "id": "de3348d2-5d25-4ae2-a7ab-99ac3eddc5d1",
   "metadata": {},
   "outputs": [],
   "source": [
    "def local_ROI_distribution(local_measure_dict, measure): \n",
    "    for ROI_idx in range(3):\n",
    "        ROI = local_measure_dict[measure].iloc[:, ROI_idx]\n",
    "        ROI.hist()"
   ]
  },
  {
   "cell_type": "code",
   "execution_count": 195,
   "id": "225e3080-2cdf-4203-ae23-bd275950365e",
   "metadata": {},
   "outputs": [
    {
     "data": {
      "image/png": "[encoded data removed]",
      "text/plain": [
       "<Figure size 640x480 with 1 Axes>"
      ]
     },
     "metadata": {},
     "output_type": "display_data"
    }
   ],
   "source": [
    "local_ROI_distribution(local_measure_dict, measure='betweenness')"
   ]
  },
  {
   "cell_type": "code",
   "execution_count": null,
   "id": "34472170-7bcf-44ef-8b5b-c7d36f50087c",
   "metadata": {},
   "outputs": [],
   "source": [
    "# # brainconn에는 있지만 bctpy에는 없는 것\n",
    "# brainconn.modularity.ci2ls\n",
    "# brainconn.modularity.ls2ci\n",
    "# brainconn.modularity.modularity_dir\n",
    "# brainconn.modularity.modularity_finetune_dir\n",
    "# brainconn.modularity.modularity_finetune_und\n",
    "# brainconn.modularity.modularity_finetune_und_sign\n",
    "# brainconn.modularity.modularity_louvain_dir\n",
    "# brainconn.modularity.modularity_louvain_und\n",
    "# brainconn.modularity.modularity_louvain_und_sign\n",
    "# brainconn.modularity.modularity_probtune_und_sign\n",
    "# brainconn.modularity.modularity_und_sign\n",
    "# brainconn.modularity.partition_distance\n",
    "# brainconn.nbs.Doi\n",
    "# brainconn.nbs.nbs_bct\n",
    "# brainconn.reference.latmio_dir\n",
    "# brainconn.reference.latmio_dir_connected\n",
    "# brainconn.reference.latmio_und\n",
    "# brainconn.reference.latmio_und_connected\n",
    "# brainconn.reference.makeevenCIJ\n",
    "# brainconn.reference.makefractalCIJ\n",
    "# brainconn.reference.makerandCIJ_und\n",
    "# brainconn.reference.makerandCIJdegreesfixed\n",
    "# brainconn.reference.makeringlatticeCIJ\n",
    "# brainconn.reference.maketoeplitzCIJ\n",
    "# brainconn.reference.null_model_dir_sign\n",
    "# brainconn.reference.null_model_und_sign\n",
    "# brainconn.reference.randmio_dir\n",
    "# brainconn.reference.randmio_dir_connected\n",
    "# brainconn.reference.randmio_dir_signed\n",
    "# brainconn.reference.randmio_und\n",
    "# brainconn.reference.randmio_und_connected\n",
    "# brainconn.reference.randmio_und_signed\n",
    "# brainconn.reference.randomize_graph_partial_und\n",
    "# brainconn.reference.randomizer_bin_und\n",
    "# brainconn.similarity.corr_flat_dir\n",
    "# brainconn.similarity.corr_flat_und\n",
    "# brainconn.similarity.dice_pairwise_und\n",
    "\n",
    "# # bctpy에는 있지만 brainconn에는 없는 것\n",
    "# Diffusion efficiency\n",
    "# Navigation\n",
    "# quasi_idempotence"
   ]
  },
  {
   "cell_type": "code",
   "execution_count": 115,
   "id": "1b89c304-ee82-4c81-9847-15bef8436497",
   "metadata": {},
   "outputs": [],
   "source": [
    "# small-worldness\n",
    "# resilience\n",
    "\n",
    "# community_structure_modularity_sign_louvian = brainconn.modularity.community_louvain(corr)\n",
    "# community_structure_modularity_link = brainconn.modularity.link_communities(corr)\n",
    "# community_structure_modularity_spectral = brainconn.modularity.modularity_und(corr)\n",
    "# consensus_partitioning = brainconn.clustering.consensus_und(corr) # input : partitions of networks\n",
    "# modularity_degeneracy = brainconn.clustering.agreement(corr) # input : partitions of networks\n",
    "# modularity_degeneracy_wei = brainconn.clustering.agreement_weighted(corr) # input : partitions of networks\n",
    "# edg_betw_wei = brainconn.centrality.edge_betweenness_wei(corr)[0] #(100, 100)\n",
    "# eigenvector_centrality_pagerank = brainconn.centrality.pagerank_centrality(corr)\n",
    "# within_module_degree_zscore_link = brainconn.centrality.module_degree_zscore(corr, community_structure_modularity_link)\n",
    "# within_module_degree_zscore_spectral = brainconn.centrality.module_degree_zscore(corr, community_structure_modularity_spectral)\n",
    "# participation_coef_link = brainconn.centrality.participation_coef(corr, community_structure_modularity_link)\n",
    "# participation_coef_spectral = brainconn.centrality.participation_coef(corr, community_structure_modularity_spectral)\n",
    "# participation_coef_sign = brainconn.centrality.participation_coef_sign(corr, community_structure_modularity_sign_louvian)\n",
    "# participation_coef_sign_gateway = brainconn.centrality.gateway_coef_sign(corr, community_structure_modularity_sign_louvian)\n",
    "# participation_coef_sign_diversity = brainconn.centrality.diversity_coef_sign(corr, community_structure_modularity_sign_louvian)\n",
    "# strength_sign = brainconn.degree.strengths_und_sign(corr) # len 4 tuple\n",
    "# clustering_coefficient_sign = brainconn.clustering.clustering_coef_wu_sign(corr) # len 2 tuple\n",
    "# transitivity = brainconn.clustering.transitivity_wu(corr) # () shape\n",
    "# consensus_partitioning = brainconn.clustering.consensus_und(corr) # input : partitions of networks\n",
    "# modularity_degeneracy = brainconn.clustering.agreement(corr) # input : partitions of networks\n",
    "# modularity_degeneracy_wei = brainconn.clustering.agreement_weighted(corr) # input : partitions of networks\n",
    "# assortativity = brainconn.core.assortativity_wei(corr) # () shape\n",
    "# core_periphery = brainconn.core.core_periphery_dir(corr) # len 2 tuple\n",
    "# assortativity_sign = brainconn.core.local_assortativity_wu_sign(corr) # len 2 tuple\n",
    "# rich_club_coefficient = brainconn.core.rich_club_wu(corr) #(99,)\n",
    "# s_core = brainconn.core.score_wu(corr) # s필요\n",
    "# distance = brainconn.distance.distance_wei(corr) # input : mapping from weight to distance (usually weight inversion)\n",
    "# distance_floydwarshall = brainconn.distance.distance_wei_floyd(corr) # input : mapping from weight to distance (usually weight inversion), or may be the native weights matrix (in which case a weight transform to distance must be specified as the input).\n",
    "# mean_first_passage_time = brainconn.distance.mean_first_passage_time(corr) # (100,100)\n",
    "# shortest_path = brainconn.distance.retrieve_shortest_path(corr) # t, hops, pmat 필요\n",
    "# density = brainconn.physical_connectivity.density_und(corr)  # len 3 tuple"
   ]
  }
 ],
 "metadata": {
  "kernelspec": {
   "display_name": "Python 3 (ipykernel)",
   "language": "python",
   "name": "python3"
  },
  "language_info": {
   "codemirror_mode": {
    "name": "ipython",
    "version": 3
   },
   "file_extension": ".py",
   "mimetype": "text/x-python",
   "name": "python",
   "nbconvert_exporter": "python",
   "pygments_lexer": "ipython3",
   "version": "3.12.2"
  }
 },
 "nbformat": 4,
 "nbformat_minor": 5
}
